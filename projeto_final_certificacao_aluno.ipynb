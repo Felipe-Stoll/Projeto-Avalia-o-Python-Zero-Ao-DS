{
 "cells": [
  {
   "cell_type": "markdown",
   "id": "2947e631",
   "metadata": {
    "id": "2947e631"
   },
   "source": [
    "# RESOLUÇÃO DO PROJETO DE CERTIFICAÇÃO"
   ]
  },
  {
   "cell_type": "markdown",
   "id": "b9d40a5c",
   "metadata": {
    "heading_collapsed": true,
    "id": "b9d40a5c"
   },
   "source": [
    "## Contexto do Problema"
   ]
  },
  {
   "cell_type": "markdown",
   "id": "ca987b85",
   "metadata": {
    "hidden": true,
    "id": "ca987b85"
   },
   "source": [
    "O investidor James Bauer gostaria de diversificar seus negócios e começar a investir em imóveis. Ele definiu que compraria imóveis na cidade de Nova York, nos Estados Unidos. Por ser um dos locais mais caros para se viver no País, ele acredita que obterá um retorno satisfatório de seus investimentos caso loque imóveis na cidade. Como todas as suas decisões são tomadas com base em dados, ele contratou você, cientista de dados, para ajudá-lo nessa empreitada.\n",
    "\n",
    "James Bauer planeja inicialmente locar os imóveis adquiridos e por isso ele definiu que irá utilizar a plataforma Airbnb para esse fim. Para isso, ele lhe entregou uma base de dados públicos da empresa, contendo os dados do comportamento dos hosts e de seus imóveis.\n",
    "\n",
    "Lembrando que o contexto, pessoas e perguntas são completamente fictícios e existem somente na minha imaginação."
   ]
  },
  {
   "cell_type": "markdown",
   "id": "165cc088",
   "metadata": {
    "heading_collapsed": true,
    "id": "165cc088"
   },
   "source": [
    "## O Desafio"
   ]
  },
  {
   "cell_type": "markdown",
   "id": "670773fa",
   "metadata": {
    "hidden": true,
    "id": "670773fa"
   },
   "source": [
    "James Bauer o contratou para realizar o estudo da base de dados fornecida e ajudá-lo com a escolha das regiões onde há maior locação e maiores preços, e que fiquem em regiões favoráveis da cidade de Nova York, pois ele acredita que essas características irão ajudá-lo a recuperar o dinheiro investido na aquisição desses imóveis mais rapidamente. \n",
    "\n",
    "Dessa forma, seu trabalho é realizar uma análise exploratória e responder às seguintes perguntas feitas pelo Sr. James Bauer:\n",
    "\n",
    "1. Qual o `id` do imóvel com o aluguel (diária) mais caro da base de dados?\n",
    "2. Qual o `id` do imóvel com o aluguel (diária) mais barato da base de dados?\n",
    "3. Qual o `id` do imóvel que foi mais locado da base de dados?\n",
    "4. Qual o `id` do imóvel que ficou mais tempo com o anúncio disponível, em\n",
    "dias, para locação na base de dados?\n",
    "5. Qual o `id` do imóvel que ficou menos tempo com o anúncio disponível, em\n",
    "dias, para locação na base de dados?\n",
    "6. O imóvel com o maior valor de aluguel (diária) da base de dados é o imóvel\n",
    "que possui mais avaliações na base de dados?\n",
    "7. O imóvel que possui a menor quantidade mínima de diárias para locação é\n",
    "também o imóvel que possui o aluguel mais caro?\n",
    "8. Qual é a média do número mínimo de diárias para locação de um imóvel? \n",
    "9. Qual é o `id` do imóvel com a menor quantidade mínima de diárias para locação da base de dados?\n",
    "10. Qual é o `id` do host que possui o imóvel mais alugado na base de dados?\n",
    "11. Qual é o `id` do host que possui o imóvel menos alugado na base de dados?\n",
    "12. Qual é o `id` do host que possui o imóvel com mais avaliações na base de\n",
    "dados?\n",
    "13. Qual é o `id` do host que possui a maior quantidade de imóveis cadastrados\n",
    "na base de dados?\n",
    "14. Qual o `id` do host que possui o imóvel com a última avaliação feita na base\n",
    "de dados?\n",
    "15. Qual o `id` do host que possui mais imóveis ativos dentro da base de dados?\n",
    "16. O host que possui mais imóveis é o host que também possui mais\n",
    "avaliações?\n",
    "17. Qual é a categoria que mais possui imóveis dentro da base de dados?\n",
    "18. Qual é a categoria que menos possui imóveis dentro da base de dados?\n",
    "19. A região de Manhattan é a região que mais possui imóveis ativos para\n",
    "locação, da categoria `Private room`?\n",
    "20. Qual a categoria de imóvel que possui a maior média de tempo de\n",
    "disponibilidade para serem locados da região do `Bronx`? Considere somente\n",
    "imóveis ativos\n",
    "21. Qual a categoria de imóvel ativo que possui o maior valor de aluguel (diária)\n",
    "na região de `Manhattan`?\n",
    "22. A categoria de imóvel `Private Room` é a categoria que fica mais tempo\n",
    "disponível para locação?\n",
    "23. Qual a categoria de imóvel que fica mais tempo disponível, na média, para\n",
    "locação?\n",
    "24. A categoria de imóvel que fica menos tempo disponível, na média, para\n",
    "locação é a categoria que possui, em média, o menor aluguel (diária)?\n",
    "25. A categoria de imóvel `Entire home/apt` é a categoria que possui, na média, o\n",
    "maior valor de aluguel?\n",
    "26. A categoria de imóvel `Entire home/apt` é a categoria que possui, na média,\n",
    "menos locações?\n",
    "27. A categoria de imóvel `Private Room` na região de `Manhattan`, na média, é\n",
    "a categoria que possui o menor valor (diária) de locação, comparado as\n",
    "outras categorias na mesma região?\n",
    "28. Qual a região que possui a maior quantidade de imóveis?\n",
    "29. Qual a região que possui a menor quantidade de imóveis?\n",
    "30. A região que possui a maior quantidade de imóveis é também a região que\n",
    "possui os imóveis mais locados?\n",
    "31. Qual a região que possui a menor quantidade de imóveis locados dentro da\n",
    "base de dados?\n",
    "32. A região de `Manhattan` é a região que possui, na média, os maiores\n",
    "aluguéis (diárias) dentro da base de dados?\n",
    "33. A região de `Queens` é a região que possui, na média, os menores aluguéis\n",
    "(diárias) dentro da base de dados?\n",
    "34. Qual a região que possui, na média, os imóveis com os menores aluguéis\n",
    "dentro da base de dados?\n",
    "35. Qual a região que possui os imóveis que ficam, na média, menos tempo\n",
    "disponíveis para aluguel? Ou seja, são alugados mais rápidos na média?\n",
    "36. Qual o bairro possui a maior quantidade de imóveis ativos para locação?\n",
    "37. Qual o bairro possui a menor quantidade de imóveis ativos para locação?\n",
    "38. Qual bairro está o imóvel com o maior valor de aluguel?\n",
    "39. Qual bairro está o imóvel com o menor valor de aluguel?\n",
    "40. Qual região que possui o bairro com mais imóveis ativos disponíveis para\n",
    "locação?\n",
    "41. Qual região que possui o bairro com menos imóveis ativos disponíveis para\n",
    "locação?\n",
    "42. O Bairro `Upper West Side`, na região de `Manhattan`, é o bairro que possui,\n",
    "na média, o maior aluguel dentro da base de dados?\n",
    "43. Qual é o bairro que possui, na média, o aluguel mais caro da base de dados?\n",
    "44. Qual o id do imóvel que possui a melhor rentabilidade da base de dados?\n",
    "Levando em consideração o aluguel mais caro e imóvel mais rápido de\n",
    "alugar? Utilize somente os imóveis que estejam ativos e que possuam pelo\n",
    "menos uma avaliação. Utilize a seguinte fórmula para verificar qual o melhor\n",
    "imóvel:\n",
    "\n",
    "$$ 𝑟𝑒𝑛𝑡𝑎𝑏𝑖𝑙𝑖𝑑𝑎𝑑𝑒 = \\frac{𝑝𝑟𝑖𝑐𝑒 * (𝑚𝑖𝑛𝑖𝑚𝑢𝑚\\_𝑛𝑖𝑔ℎ𝑡𝑠 + 1) *  n𝑢𝑚𝑏𝑒𝑟\\_𝑜𝑓\\_𝑟𝑒𝑣𝑖𝑒𝑤𝑠}{ \\sqrt{𝑎𝑣𝑎𝑖𝑙𝑎𝑏𝑖𝑙𝑖𝑡𝑦_365}} $$\n",
    "\n",
    "45. Qual a região em que fica o melhor bairro para se adquirir um imóvel, visando\n",
    "a melhor rentabilidade média? Utilize como métrica o índice criado na\n",
    "questão anterior.\n",
    "46. Qual a região em que fica o pior bairro para se adquirir um imóvel, visando a melhor rentabilidade média? Utilize como métrica o índice criado na questão 44.\n",
    "47. Levando em conta o bairro encontrado na questão anterior, verifique qual é o\n",
    "`id` do imóvel ativo que possui a pior rentabilidade desse bairro\n",
    "48. Levando em conta o bairro da questão 45, verifique qual o `id` do imóvel ativo que possui a melhor rentabilidade desse bairro\n",
    "49. Caso eu, investidor, compre o imóvel da questão anterior com um\n",
    "investimento de U$ 1.000.000,00, quantas vezes eu teria que locá-lo para ter\n",
    "o retorno do investimento feito? Utilize a fórmula abaixo para calcular o tempo\n",
    "de retorno do investimento:\n",
    "\n",
    "$$ 𝑟𝑒𝑡𝑢𝑟𝑛_𝑖𝑛𝑣𝑒𝑠𝑡𝑚𝑒𝑛𝑡 = \\frac{𝑖𝑛𝑣𝑒𝑠𝑡𝑚𝑒𝑛𝑡}{𝑝𝑟𝑖𝑐𝑒 * (𝑚𝑖𝑛𝑖𝑚𝑢𝑚\\_𝑛𝑖𝑔ℎ𝑡𝑠 + 1)} $$\n",
    "\n",
    "50. Se eu desejasse comprar um imóvel que esteja ativo e com pelo menos uma avaliação em um dos bairros abaixo, qual seria o `id` do imóvel com a melhor rentabilidade dentre esses bairros? Utilize o índice calculado na questão 44.\n",
    "  * East Harlem\n",
    "  * Harlem\n",
    "  * Midtown\n",
    "  * Morningside Heights\n",
    "  * Upper West Side\n",
    "  * Upper East Side"
   ]
  },
  {
   "cell_type": "markdown",
   "id": "d0240178",
   "metadata": {
    "heading_collapsed": true,
    "id": "d0240178"
   },
   "source": [
    "## Os Dados"
   ]
  },
  {
   "cell_type": "markdown",
   "id": "31be0f41",
   "metadata": {
    "hidden": true,
    "id": "31be0f41"
   },
   "source": [
    "O conjunto de dados que representam o contexto está disponível na plataforma do Kaggle. O link para acesso aos dados :\n",
    "\n",
    "https://www.kaggle.com/datasets/dgomonov/new-york-city-airbnb-open-data\n"
   ]
  },
  {
   "cell_type": "markdown",
   "id": "a3a41c2a",
   "metadata": {
    "id": "a3a41c2a"
   },
   "source": [
    "## Solução do Desafio"
   ]
  },
  {
   "cell_type": "markdown",
   "id": "26f68b40",
   "metadata": {
    "heading_collapsed": true,
    "id": "26f68b40"
   },
   "source": [
    "### Imports de Bibliotecas"
   ]
  },
  {
   "cell_type": "code",
   "execution_count": 1,
   "id": "89188b73",
   "metadata": {
    "ExecuteTime": {
     "end_time": "2022-04-27T19:05:40.949559Z",
     "start_time": "2022-04-27T19:05:40.946604Z"
    },
    "hidden": true,
    "id": "89188b73"
   },
   "outputs": [],
   "source": [
    "# Inserção de Imagens\n",
    "from IPython.display import Image\n",
    "\n",
    "# Manipulação de dados\n",
    "\n",
    "import pandas as pd\n",
    "pd.set_option('display.float_format', lambda x: '%.2f' % x) ## suppressing scientific notation\n",
    "\n",
    "import numpy as np\n",
    "\n",
    "# Plot de gráficos\n",
    "\n",
    "from matplotlib import pyplot as plt"
   ]
  },
  {
   "cell_type": "code",
   "execution_count": null,
   "id": "b9e75a04",
   "metadata": {
    "hidden": true,
    "id": "b9e75a04"
   },
   "outputs": [],
   "source": []
  },
  {
   "cell_type": "code",
   "execution_count": null,
   "id": "d9d0e9f9",
   "metadata": {
    "hidden": true,
    "id": "d9d0e9f9"
   },
   "outputs": [],
   "source": []
  },
  {
   "cell_type": "markdown",
   "id": "d75baf0d",
   "metadata": {
    "heading_collapsed": true,
    "id": "d75baf0d"
   },
   "source": [
    "### Leitura do Arquivo"
   ]
  },
  {
   "cell_type": "code",
   "execution_count": 2,
   "id": "40c14a9c",
   "metadata": {
    "hidden": true,
    "id": "40c14a9c"
   },
   "outputs": [
    {
     "data": {
      "text/html": [
       "<div>\n",
       "<style scoped>\n",
       "    .dataframe tbody tr th:only-of-type {\n",
       "        vertical-align: middle;\n",
       "    }\n",
       "\n",
       "    .dataframe tbody tr th {\n",
       "        vertical-align: top;\n",
       "    }\n",
       "\n",
       "    .dataframe thead th {\n",
       "        text-align: right;\n",
       "    }\n",
       "</style>\n",
       "<table border=\"1\" class=\"dataframe\">\n",
       "  <thead>\n",
       "    <tr style=\"text-align: right;\">\n",
       "      <th></th>\n",
       "      <th>id</th>\n",
       "      <th>name</th>\n",
       "      <th>host_id</th>\n",
       "      <th>host_name</th>\n",
       "      <th>neighbourhood_group</th>\n",
       "      <th>neighbourhood</th>\n",
       "      <th>latitude</th>\n",
       "      <th>longitude</th>\n",
       "      <th>room_type</th>\n",
       "      <th>price</th>\n",
       "      <th>minimum_nights</th>\n",
       "      <th>number_of_reviews</th>\n",
       "      <th>last_review</th>\n",
       "      <th>reviews_per_month</th>\n",
       "      <th>calculated_host_listings_count</th>\n",
       "      <th>availability_365</th>\n",
       "    </tr>\n",
       "  </thead>\n",
       "  <tbody>\n",
       "    <tr>\n",
       "      <th>0</th>\n",
       "      <td>2539</td>\n",
       "      <td>Clean &amp; quiet apt home by the park</td>\n",
       "      <td>2787</td>\n",
       "      <td>John</td>\n",
       "      <td>Brooklyn</td>\n",
       "      <td>Kensington</td>\n",
       "      <td>40.65</td>\n",
       "      <td>-73.97</td>\n",
       "      <td>Private room</td>\n",
       "      <td>149</td>\n",
       "      <td>1</td>\n",
       "      <td>9</td>\n",
       "      <td>2018-10-19</td>\n",
       "      <td>0.21</td>\n",
       "      <td>6</td>\n",
       "      <td>365</td>\n",
       "    </tr>\n",
       "    <tr>\n",
       "      <th>1</th>\n",
       "      <td>2595</td>\n",
       "      <td>Skylit Midtown Castle</td>\n",
       "      <td>2845</td>\n",
       "      <td>Jennifer</td>\n",
       "      <td>Manhattan</td>\n",
       "      <td>Midtown</td>\n",
       "      <td>40.75</td>\n",
       "      <td>-73.98</td>\n",
       "      <td>Entire home/apt</td>\n",
       "      <td>225</td>\n",
       "      <td>1</td>\n",
       "      <td>45</td>\n",
       "      <td>2019-05-21</td>\n",
       "      <td>0.38</td>\n",
       "      <td>2</td>\n",
       "      <td>355</td>\n",
       "    </tr>\n",
       "    <tr>\n",
       "      <th>2</th>\n",
       "      <td>3647</td>\n",
       "      <td>THE VILLAGE OF HARLEM....NEW YORK !</td>\n",
       "      <td>4632</td>\n",
       "      <td>Elisabeth</td>\n",
       "      <td>Manhattan</td>\n",
       "      <td>Harlem</td>\n",
       "      <td>40.81</td>\n",
       "      <td>-73.94</td>\n",
       "      <td>Private room</td>\n",
       "      <td>150</td>\n",
       "      <td>3</td>\n",
       "      <td>0</td>\n",
       "      <td>NaN</td>\n",
       "      <td>NaN</td>\n",
       "      <td>1</td>\n",
       "      <td>365</td>\n",
       "    </tr>\n",
       "    <tr>\n",
       "      <th>3</th>\n",
       "      <td>3831</td>\n",
       "      <td>Cozy Entire Floor of Brownstone</td>\n",
       "      <td>4869</td>\n",
       "      <td>LisaRoxanne</td>\n",
       "      <td>Brooklyn</td>\n",
       "      <td>Clinton Hill</td>\n",
       "      <td>40.69</td>\n",
       "      <td>-73.96</td>\n",
       "      <td>Entire home/apt</td>\n",
       "      <td>89</td>\n",
       "      <td>1</td>\n",
       "      <td>270</td>\n",
       "      <td>2019-07-05</td>\n",
       "      <td>4.64</td>\n",
       "      <td>1</td>\n",
       "      <td>194</td>\n",
       "    </tr>\n",
       "    <tr>\n",
       "      <th>4</th>\n",
       "      <td>5022</td>\n",
       "      <td>Entire Apt: Spacious Studio/Loft by central park</td>\n",
       "      <td>7192</td>\n",
       "      <td>Laura</td>\n",
       "      <td>Manhattan</td>\n",
       "      <td>East Harlem</td>\n",
       "      <td>40.80</td>\n",
       "      <td>-73.94</td>\n",
       "      <td>Entire home/apt</td>\n",
       "      <td>80</td>\n",
       "      <td>10</td>\n",
       "      <td>9</td>\n",
       "      <td>2018-11-19</td>\n",
       "      <td>0.10</td>\n",
       "      <td>1</td>\n",
       "      <td>0</td>\n",
       "    </tr>\n",
       "  </tbody>\n",
       "</table>\n",
       "</div>"
      ],
      "text/plain": [
       "     id                                              name  host_id  \\\n",
       "0  2539                Clean & quiet apt home by the park     2787   \n",
       "1  2595                             Skylit Midtown Castle     2845   \n",
       "2  3647               THE VILLAGE OF HARLEM....NEW YORK !     4632   \n",
       "3  3831                   Cozy Entire Floor of Brownstone     4869   \n",
       "4  5022  Entire Apt: Spacious Studio/Loft by central park     7192   \n",
       "\n",
       "     host_name neighbourhood_group neighbourhood  latitude  longitude  \\\n",
       "0         John            Brooklyn    Kensington     40.65     -73.97   \n",
       "1     Jennifer           Manhattan       Midtown     40.75     -73.98   \n",
       "2    Elisabeth           Manhattan        Harlem     40.81     -73.94   \n",
       "3  LisaRoxanne            Brooklyn  Clinton Hill     40.69     -73.96   \n",
       "4        Laura           Manhattan   East Harlem     40.80     -73.94   \n",
       "\n",
       "         room_type  price  minimum_nights  number_of_reviews last_review  \\\n",
       "0     Private room    149               1                  9  2018-10-19   \n",
       "1  Entire home/apt    225               1                 45  2019-05-21   \n",
       "2     Private room    150               3                  0         NaN   \n",
       "3  Entire home/apt     89               1                270  2019-07-05   \n",
       "4  Entire home/apt     80              10                  9  2018-11-19   \n",
       "\n",
       "   reviews_per_month  calculated_host_listings_count  availability_365  \n",
       "0               0.21                               6               365  \n",
       "1               0.38                               2               355  \n",
       "2                NaN                               1               365  \n",
       "3               4.64                               1               194  \n",
       "4               0.10                               1                 0  "
      ]
     },
     "metadata": {},
     "output_type": "display_data"
    }
   ],
   "source": [
    "dados = pd.read_csv('AB_NYC_2019.csv')\n",
    "display(dados.head())"
   ]
  },
  {
   "cell_type": "markdown",
   "id": "b3aa724b",
   "metadata": {
    "heading_collapsed": true,
    "id": "b3aa724b",
    "tags": []
   },
   "source": [
    "### Entendimento dos dados"
   ]
  },
  {
   "cell_type": "code",
   "execution_count": 127,
   "id": "d781c401",
   "metadata": {
    "hidden": true,
    "id": "d781c401"
   },
   "outputs": [
    {
     "data": {
      "text/plain": [
       "(48895, 16)"
      ]
     },
     "execution_count": 127,
     "metadata": {},
     "output_type": "execute_result"
    }
   ],
   "source": [
    "dados.shape"
   ]
  },
  {
   "cell_type": "code",
   "execution_count": 3,
   "id": "cd13463b-8528-4aaf-bfe8-48afe6a09f53",
   "metadata": {},
   "outputs": [],
   "source": [
    "# Conversão de tipo de dados\n",
    "\n",
    "## 'id' para object\n",
    "\n",
    "dados['id'] = dados['id'].astype('object')\n",
    "\n",
    "## 'host_id' para object\n",
    "\n",
    "dados['host_id'] = dados['host_id'].astype('object')\n",
    "\n",
    "## 'last_review' para date\n",
    "\n",
    "dados['last_review'] = pd.to_datetime(dados['last_review'])"
   ]
  },
  {
   "cell_type": "code",
   "execution_count": 4,
   "id": "45904550-7b52-490a-8c98-11cc12cd213f",
   "metadata": {},
   "outputs": [
    {
     "data": {
      "text/html": [
       "<div>\n",
       "<style scoped>\n",
       "    .dataframe tbody tr th:only-of-type {\n",
       "        vertical-align: middle;\n",
       "    }\n",
       "\n",
       "    .dataframe tbody tr th {\n",
       "        vertical-align: top;\n",
       "    }\n",
       "\n",
       "    .dataframe thead th {\n",
       "        text-align: right;\n",
       "    }\n",
       "</style>\n",
       "<table border=\"1\" class=\"dataframe\">\n",
       "  <thead>\n",
       "    <tr style=\"text-align: right;\">\n",
       "      <th></th>\n",
       "      <th>id</th>\n",
       "      <th>name</th>\n",
       "      <th>host_id</th>\n",
       "      <th>host_name</th>\n",
       "      <th>neighbourhood_group</th>\n",
       "      <th>neighbourhood</th>\n",
       "      <th>latitude</th>\n",
       "      <th>longitude</th>\n",
       "      <th>room_type</th>\n",
       "      <th>price</th>\n",
       "      <th>minimum_nights</th>\n",
       "      <th>number_of_reviews</th>\n",
       "      <th>last_review</th>\n",
       "      <th>reviews_per_month</th>\n",
       "      <th>calculated_host_listings_count</th>\n",
       "      <th>availability_365</th>\n",
       "    </tr>\n",
       "  </thead>\n",
       "  <tbody>\n",
       "    <tr>\n",
       "      <th>0</th>\n",
       "      <td>2539</td>\n",
       "      <td>Clean &amp; quiet apt home by the park</td>\n",
       "      <td>2787</td>\n",
       "      <td>John</td>\n",
       "      <td>Brooklyn</td>\n",
       "      <td>Kensington</td>\n",
       "      <td>40.65</td>\n",
       "      <td>-73.97</td>\n",
       "      <td>Private room</td>\n",
       "      <td>149</td>\n",
       "      <td>1</td>\n",
       "      <td>9</td>\n",
       "      <td>2018-10-19</td>\n",
       "      <td>0.21</td>\n",
       "      <td>6</td>\n",
       "      <td>365</td>\n",
       "    </tr>\n",
       "    <tr>\n",
       "      <th>1</th>\n",
       "      <td>2595</td>\n",
       "      <td>Skylit Midtown Castle</td>\n",
       "      <td>2845</td>\n",
       "      <td>Jennifer</td>\n",
       "      <td>Manhattan</td>\n",
       "      <td>Midtown</td>\n",
       "      <td>40.75</td>\n",
       "      <td>-73.98</td>\n",
       "      <td>Entire home/apt</td>\n",
       "      <td>225</td>\n",
       "      <td>1</td>\n",
       "      <td>45</td>\n",
       "      <td>2019-05-21</td>\n",
       "      <td>0.38</td>\n",
       "      <td>2</td>\n",
       "      <td>355</td>\n",
       "    </tr>\n",
       "    <tr>\n",
       "      <th>2</th>\n",
       "      <td>3647</td>\n",
       "      <td>THE VILLAGE OF HARLEM....NEW YORK !</td>\n",
       "      <td>4632</td>\n",
       "      <td>Elisabeth</td>\n",
       "      <td>Manhattan</td>\n",
       "      <td>Harlem</td>\n",
       "      <td>40.81</td>\n",
       "      <td>-73.94</td>\n",
       "      <td>Private room</td>\n",
       "      <td>150</td>\n",
       "      <td>3</td>\n",
       "      <td>0</td>\n",
       "      <td>NaT</td>\n",
       "      <td>NaN</td>\n",
       "      <td>1</td>\n",
       "      <td>365</td>\n",
       "    </tr>\n",
       "    <tr>\n",
       "      <th>3</th>\n",
       "      <td>3831</td>\n",
       "      <td>Cozy Entire Floor of Brownstone</td>\n",
       "      <td>4869</td>\n",
       "      <td>LisaRoxanne</td>\n",
       "      <td>Brooklyn</td>\n",
       "      <td>Clinton Hill</td>\n",
       "      <td>40.69</td>\n",
       "      <td>-73.96</td>\n",
       "      <td>Entire home/apt</td>\n",
       "      <td>89</td>\n",
       "      <td>1</td>\n",
       "      <td>270</td>\n",
       "      <td>2019-07-05</td>\n",
       "      <td>4.64</td>\n",
       "      <td>1</td>\n",
       "      <td>194</td>\n",
       "    </tr>\n",
       "    <tr>\n",
       "      <th>4</th>\n",
       "      <td>5022</td>\n",
       "      <td>Entire Apt: Spacious Studio/Loft by central park</td>\n",
       "      <td>7192</td>\n",
       "      <td>Laura</td>\n",
       "      <td>Manhattan</td>\n",
       "      <td>East Harlem</td>\n",
       "      <td>40.80</td>\n",
       "      <td>-73.94</td>\n",
       "      <td>Entire home/apt</td>\n",
       "      <td>80</td>\n",
       "      <td>10</td>\n",
       "      <td>9</td>\n",
       "      <td>2018-11-19</td>\n",
       "      <td>0.10</td>\n",
       "      <td>1</td>\n",
       "      <td>0</td>\n",
       "    </tr>\n",
       "  </tbody>\n",
       "</table>\n",
       "</div>"
      ],
      "text/plain": [
       "     id                                              name host_id  \\\n",
       "0  2539                Clean & quiet apt home by the park    2787   \n",
       "1  2595                             Skylit Midtown Castle    2845   \n",
       "2  3647               THE VILLAGE OF HARLEM....NEW YORK !    4632   \n",
       "3  3831                   Cozy Entire Floor of Brownstone    4869   \n",
       "4  5022  Entire Apt: Spacious Studio/Loft by central park    7192   \n",
       "\n",
       "     host_name neighbourhood_group neighbourhood  latitude  longitude  \\\n",
       "0         John            Brooklyn    Kensington     40.65     -73.97   \n",
       "1     Jennifer           Manhattan       Midtown     40.75     -73.98   \n",
       "2    Elisabeth           Manhattan        Harlem     40.81     -73.94   \n",
       "3  LisaRoxanne            Brooklyn  Clinton Hill     40.69     -73.96   \n",
       "4        Laura           Manhattan   East Harlem     40.80     -73.94   \n",
       "\n",
       "         room_type  price  minimum_nights  number_of_reviews last_review  \\\n",
       "0     Private room    149               1                  9  2018-10-19   \n",
       "1  Entire home/apt    225               1                 45  2019-05-21   \n",
       "2     Private room    150               3                  0         NaT   \n",
       "3  Entire home/apt     89               1                270  2019-07-05   \n",
       "4  Entire home/apt     80              10                  9  2018-11-19   \n",
       "\n",
       "   reviews_per_month  calculated_host_listings_count  availability_365  \n",
       "0               0.21                               6               365  \n",
       "1               0.38                               2               355  \n",
       "2                NaN                               1               365  \n",
       "3               4.64                               1               194  \n",
       "4               0.10                               1                 0  "
      ]
     },
     "metadata": {},
     "output_type": "display_data"
    }
   ],
   "source": [
    "display(dados.head())"
   ]
  },
  {
   "cell_type": "code",
   "execution_count": 5,
   "id": "d3ddd77e",
   "metadata": {
    "hidden": true,
    "id": "d3ddd77e"
   },
   "outputs": [
    {
     "data": {
      "text/plain": [
       "id                                        object\n",
       "name                                      object\n",
       "host_id                                   object\n",
       "host_name                                 object\n",
       "neighbourhood_group                       object\n",
       "neighbourhood                             object\n",
       "latitude                                 float64\n",
       "longitude                                float64\n",
       "room_type                                 object\n",
       "price                                      int64\n",
       "minimum_nights                             int64\n",
       "number_of_reviews                          int64\n",
       "last_review                       datetime64[ns]\n",
       "reviews_per_month                        float64\n",
       "calculated_host_listings_count             int64\n",
       "availability_365                           int64\n",
       "dtype: object"
      ]
     },
     "execution_count": 5,
     "metadata": {},
     "output_type": "execute_result"
    }
   ],
   "source": [
    "dados.dtypes"
   ]
  },
  {
   "cell_type": "code",
   "execution_count": 6,
   "id": "c7ca354e-1a82-499a-8584-7ba24b5c0c20",
   "metadata": {},
   "outputs": [
    {
     "data": {
      "text/html": [
       "<div>\n",
       "<style scoped>\n",
       "    .dataframe tbody tr th:only-of-type {\n",
       "        vertical-align: middle;\n",
       "    }\n",
       "\n",
       "    .dataframe tbody tr th {\n",
       "        vertical-align: top;\n",
       "    }\n",
       "\n",
       "    .dataframe thead th {\n",
       "        text-align: right;\n",
       "    }\n",
       "</style>\n",
       "<table border=\"1\" class=\"dataframe\">\n",
       "  <thead>\n",
       "    <tr style=\"text-align: right;\">\n",
       "      <th></th>\n",
       "      <th>latitude</th>\n",
       "      <th>longitude</th>\n",
       "      <th>price</th>\n",
       "      <th>minimum_nights</th>\n",
       "      <th>number_of_reviews</th>\n",
       "      <th>reviews_per_month</th>\n",
       "      <th>calculated_host_listings_count</th>\n",
       "      <th>availability_365</th>\n",
       "    </tr>\n",
       "  </thead>\n",
       "  <tbody>\n",
       "    <tr>\n",
       "      <th>count</th>\n",
       "      <td>48895.00</td>\n",
       "      <td>48895.00</td>\n",
       "      <td>48895.00</td>\n",
       "      <td>48895.00</td>\n",
       "      <td>48895.00</td>\n",
       "      <td>38843.00</td>\n",
       "      <td>48895.00</td>\n",
       "      <td>48895.00</td>\n",
       "    </tr>\n",
       "    <tr>\n",
       "      <th>mean</th>\n",
       "      <td>40.73</td>\n",
       "      <td>-73.95</td>\n",
       "      <td>152.72</td>\n",
       "      <td>7.03</td>\n",
       "      <td>23.27</td>\n",
       "      <td>1.37</td>\n",
       "      <td>7.14</td>\n",
       "      <td>112.78</td>\n",
       "    </tr>\n",
       "    <tr>\n",
       "      <th>std</th>\n",
       "      <td>0.05</td>\n",
       "      <td>0.05</td>\n",
       "      <td>240.15</td>\n",
       "      <td>20.51</td>\n",
       "      <td>44.55</td>\n",
       "      <td>1.68</td>\n",
       "      <td>32.95</td>\n",
       "      <td>131.62</td>\n",
       "    </tr>\n",
       "    <tr>\n",
       "      <th>min</th>\n",
       "      <td>40.50</td>\n",
       "      <td>-74.24</td>\n",
       "      <td>0.00</td>\n",
       "      <td>1.00</td>\n",
       "      <td>0.00</td>\n",
       "      <td>0.01</td>\n",
       "      <td>1.00</td>\n",
       "      <td>0.00</td>\n",
       "    </tr>\n",
       "    <tr>\n",
       "      <th>25%</th>\n",
       "      <td>40.69</td>\n",
       "      <td>-73.98</td>\n",
       "      <td>69.00</td>\n",
       "      <td>1.00</td>\n",
       "      <td>1.00</td>\n",
       "      <td>0.19</td>\n",
       "      <td>1.00</td>\n",
       "      <td>0.00</td>\n",
       "    </tr>\n",
       "    <tr>\n",
       "      <th>50%</th>\n",
       "      <td>40.72</td>\n",
       "      <td>-73.96</td>\n",
       "      <td>106.00</td>\n",
       "      <td>3.00</td>\n",
       "      <td>5.00</td>\n",
       "      <td>0.72</td>\n",
       "      <td>1.00</td>\n",
       "      <td>45.00</td>\n",
       "    </tr>\n",
       "    <tr>\n",
       "      <th>75%</th>\n",
       "      <td>40.76</td>\n",
       "      <td>-73.94</td>\n",
       "      <td>175.00</td>\n",
       "      <td>5.00</td>\n",
       "      <td>24.00</td>\n",
       "      <td>2.02</td>\n",
       "      <td>2.00</td>\n",
       "      <td>227.00</td>\n",
       "    </tr>\n",
       "    <tr>\n",
       "      <th>max</th>\n",
       "      <td>40.91</td>\n",
       "      <td>-73.71</td>\n",
       "      <td>10000.00</td>\n",
       "      <td>1250.00</td>\n",
       "      <td>629.00</td>\n",
       "      <td>58.50</td>\n",
       "      <td>327.00</td>\n",
       "      <td>365.00</td>\n",
       "    </tr>\n",
       "  </tbody>\n",
       "</table>\n",
       "</div>"
      ],
      "text/plain": [
       "       latitude  longitude    price  minimum_nights  number_of_reviews  \\\n",
       "count  48895.00   48895.00 48895.00        48895.00           48895.00   \n",
       "mean      40.73     -73.95   152.72            7.03              23.27   \n",
       "std        0.05       0.05   240.15           20.51              44.55   \n",
       "min       40.50     -74.24     0.00            1.00               0.00   \n",
       "25%       40.69     -73.98    69.00            1.00               1.00   \n",
       "50%       40.72     -73.96   106.00            3.00               5.00   \n",
       "75%       40.76     -73.94   175.00            5.00              24.00   \n",
       "max       40.91     -73.71 10000.00         1250.00             629.00   \n",
       "\n",
       "       reviews_per_month  calculated_host_listings_count  availability_365  \n",
       "count           38843.00                        48895.00          48895.00  \n",
       "mean                1.37                            7.14            112.78  \n",
       "std                 1.68                           32.95            131.62  \n",
       "min                 0.01                            1.00              0.00  \n",
       "25%                 0.19                            1.00              0.00  \n",
       "50%                 0.72                            1.00             45.00  \n",
       "75%                 2.02                            2.00            227.00  \n",
       "max                58.50                          327.00            365.00  "
      ]
     },
     "execution_count": 6,
     "metadata": {},
     "output_type": "execute_result"
    }
   ],
   "source": [
    "dados.describe()"
   ]
  },
  {
   "cell_type": "code",
   "execution_count": 7,
   "id": "b6ad6bb7-0318-4728-a22e-4def207c5ebc",
   "metadata": {},
   "outputs": [
    {
     "data": {
      "text/plain": [
       "id                                    0\n",
       "name                                 16\n",
       "host_id                               0\n",
       "host_name                            21\n",
       "neighbourhood_group                   0\n",
       "neighbourhood                         0\n",
       "latitude                              0\n",
       "longitude                             0\n",
       "room_type                             0\n",
       "price                                 0\n",
       "minimum_nights                        0\n",
       "number_of_reviews                     0\n",
       "last_review                       10052\n",
       "reviews_per_month                 10052\n",
       "calculated_host_listings_count        0\n",
       "availability_365                      0\n",
       "dtype: int64"
      ]
     },
     "execution_count": 7,
     "metadata": {},
     "output_type": "execute_result"
    }
   ],
   "source": [
    "dados.isnull().sum()"
   ]
  },
  {
   "cell_type": "markdown",
   "id": "521ee54e-bc90-4a43-978f-184e4418892c",
   "metadata": {
    "tags": []
   },
   "source": [
    "#### Percepções sobre o dataset"
   ]
  },
  {
   "cell_type": "markdown",
   "id": "a03567bd-0f84-4eca-9443-660d3f80f424",
   "metadata": {},
   "source": [
    "O dataset disponibilizado não é muito extenso, contendo um pouco menos de 50.000 registros, e sem muitos problemas.\n",
    "A princípio ajustamos alguns tipos de dados ('id', 'host_id', 'last_review'), e vamos precisar tratar dados faltantes, na próxima sessão."
   ]
  },
  {
   "cell_type": "markdown",
   "id": "ec656f3e",
   "metadata": {
    "heading_collapsed": true,
    "id": "ec656f3e"
   },
   "source": [
    "### Tratamento dos Dados Faltantes"
   ]
  },
  {
   "cell_type": "code",
   "execution_count": 8,
   "id": "9f41d04f",
   "metadata": {
    "hidden": true,
    "id": "9f41d04f"
   },
   "outputs": [],
   "source": [
    "# 'name'\n",
    "## se nulo, usar o valor de 'id'\n",
    "\n",
    "dados['name'] = dados['name'].fillna(dados['id'])"
   ]
  },
  {
   "cell_type": "code",
   "execution_count": 9,
   "id": "6e5938f0",
   "metadata": {
    "hidden": true,
    "id": "6e5938f0"
   },
   "outputs": [],
   "source": [
    "# 'host_name'\n",
    "## se nulo, usar o valor de 'host_id'\n",
    "\n",
    "dados['host_name'] = dados['host_name'].fillna(dados['host_id'])"
   ]
  },
  {
   "cell_type": "code",
   "execution_count": 10,
   "id": "0aa9c09c",
   "metadata": {
    "hidden": true,
    "id": "0aa9c09c"
   },
   "outputs": [],
   "source": [
    "# 'last_review'\n",
    "## se nulo, usar o valor mínimo de 'last_review'\n",
    "\n",
    "min_last_review = dados['last_review'].min()\n",
    "\n",
    "\n",
    "dados['last_review'] = dados['last_review'].fillna(min_last_review)"
   ]
  },
  {
   "cell_type": "code",
   "execution_count": 11,
   "id": "0d92568f-1e32-4a6d-b4a9-54d1abd10f32",
   "metadata": {},
   "outputs": [],
   "source": [
    "# 'reviews_per_month'\n",
    "## se nulo, usar o valor 0\n",
    "\n",
    "dados['reviews_per_month'] = dados['reviews_per_month'].fillna(0)"
   ]
  },
  {
   "cell_type": "code",
   "execution_count": 12,
   "id": "86127016-0cf3-4c8c-9f54-afe743a986aa",
   "metadata": {},
   "outputs": [
    {
     "data": {
      "text/html": [
       "<div>\n",
       "<style scoped>\n",
       "    .dataframe tbody tr th:only-of-type {\n",
       "        vertical-align: middle;\n",
       "    }\n",
       "\n",
       "    .dataframe tbody tr th {\n",
       "        vertical-align: top;\n",
       "    }\n",
       "\n",
       "    .dataframe thead th {\n",
       "        text-align: right;\n",
       "    }\n",
       "</style>\n",
       "<table border=\"1\" class=\"dataframe\">\n",
       "  <thead>\n",
       "    <tr style=\"text-align: right;\">\n",
       "      <th></th>\n",
       "      <th>id</th>\n",
       "      <th>name</th>\n",
       "      <th>host_id</th>\n",
       "      <th>host_name</th>\n",
       "      <th>neighbourhood_group</th>\n",
       "      <th>neighbourhood</th>\n",
       "      <th>latitude</th>\n",
       "      <th>longitude</th>\n",
       "      <th>room_type</th>\n",
       "      <th>price</th>\n",
       "      <th>minimum_nights</th>\n",
       "      <th>number_of_reviews</th>\n",
       "      <th>last_review</th>\n",
       "      <th>reviews_per_month</th>\n",
       "      <th>calculated_host_listings_count</th>\n",
       "      <th>availability_365</th>\n",
       "    </tr>\n",
       "  </thead>\n",
       "  <tbody>\n",
       "    <tr>\n",
       "      <th>0</th>\n",
       "      <td>2539</td>\n",
       "      <td>Clean &amp; quiet apt home by the park</td>\n",
       "      <td>2787</td>\n",
       "      <td>John</td>\n",
       "      <td>Brooklyn</td>\n",
       "      <td>Kensington</td>\n",
       "      <td>40.65</td>\n",
       "      <td>-73.97</td>\n",
       "      <td>Private room</td>\n",
       "      <td>149</td>\n",
       "      <td>1</td>\n",
       "      <td>9</td>\n",
       "      <td>2018-10-19</td>\n",
       "      <td>0.21</td>\n",
       "      <td>6</td>\n",
       "      <td>365</td>\n",
       "    </tr>\n",
       "    <tr>\n",
       "      <th>1</th>\n",
       "      <td>2595</td>\n",
       "      <td>Skylit Midtown Castle</td>\n",
       "      <td>2845</td>\n",
       "      <td>Jennifer</td>\n",
       "      <td>Manhattan</td>\n",
       "      <td>Midtown</td>\n",
       "      <td>40.75</td>\n",
       "      <td>-73.98</td>\n",
       "      <td>Entire home/apt</td>\n",
       "      <td>225</td>\n",
       "      <td>1</td>\n",
       "      <td>45</td>\n",
       "      <td>2019-05-21</td>\n",
       "      <td>0.38</td>\n",
       "      <td>2</td>\n",
       "      <td>355</td>\n",
       "    </tr>\n",
       "    <tr>\n",
       "      <th>2</th>\n",
       "      <td>3647</td>\n",
       "      <td>THE VILLAGE OF HARLEM....NEW YORK !</td>\n",
       "      <td>4632</td>\n",
       "      <td>Elisabeth</td>\n",
       "      <td>Manhattan</td>\n",
       "      <td>Harlem</td>\n",
       "      <td>40.81</td>\n",
       "      <td>-73.94</td>\n",
       "      <td>Private room</td>\n",
       "      <td>150</td>\n",
       "      <td>3</td>\n",
       "      <td>0</td>\n",
       "      <td>2011-03-28</td>\n",
       "      <td>0.00</td>\n",
       "      <td>1</td>\n",
       "      <td>365</td>\n",
       "    </tr>\n",
       "    <tr>\n",
       "      <th>3</th>\n",
       "      <td>3831</td>\n",
       "      <td>Cozy Entire Floor of Brownstone</td>\n",
       "      <td>4869</td>\n",
       "      <td>LisaRoxanne</td>\n",
       "      <td>Brooklyn</td>\n",
       "      <td>Clinton Hill</td>\n",
       "      <td>40.69</td>\n",
       "      <td>-73.96</td>\n",
       "      <td>Entire home/apt</td>\n",
       "      <td>89</td>\n",
       "      <td>1</td>\n",
       "      <td>270</td>\n",
       "      <td>2019-07-05</td>\n",
       "      <td>4.64</td>\n",
       "      <td>1</td>\n",
       "      <td>194</td>\n",
       "    </tr>\n",
       "    <tr>\n",
       "      <th>4</th>\n",
       "      <td>5022</td>\n",
       "      <td>Entire Apt: Spacious Studio/Loft by central park</td>\n",
       "      <td>7192</td>\n",
       "      <td>Laura</td>\n",
       "      <td>Manhattan</td>\n",
       "      <td>East Harlem</td>\n",
       "      <td>40.80</td>\n",
       "      <td>-73.94</td>\n",
       "      <td>Entire home/apt</td>\n",
       "      <td>80</td>\n",
       "      <td>10</td>\n",
       "      <td>9</td>\n",
       "      <td>2018-11-19</td>\n",
       "      <td>0.10</td>\n",
       "      <td>1</td>\n",
       "      <td>0</td>\n",
       "    </tr>\n",
       "    <tr>\n",
       "      <th>5</th>\n",
       "      <td>5099</td>\n",
       "      <td>Large Cozy 1 BR Apartment In Midtown East</td>\n",
       "      <td>7322</td>\n",
       "      <td>Chris</td>\n",
       "      <td>Manhattan</td>\n",
       "      <td>Murray Hill</td>\n",
       "      <td>40.75</td>\n",
       "      <td>-73.97</td>\n",
       "      <td>Entire home/apt</td>\n",
       "      <td>200</td>\n",
       "      <td>3</td>\n",
       "      <td>74</td>\n",
       "      <td>2019-06-22</td>\n",
       "      <td>0.59</td>\n",
       "      <td>1</td>\n",
       "      <td>129</td>\n",
       "    </tr>\n",
       "    <tr>\n",
       "      <th>6</th>\n",
       "      <td>5121</td>\n",
       "      <td>BlissArtsSpace!</td>\n",
       "      <td>7356</td>\n",
       "      <td>Garon</td>\n",
       "      <td>Brooklyn</td>\n",
       "      <td>Bedford-Stuyvesant</td>\n",
       "      <td>40.69</td>\n",
       "      <td>-73.96</td>\n",
       "      <td>Private room</td>\n",
       "      <td>60</td>\n",
       "      <td>45</td>\n",
       "      <td>49</td>\n",
       "      <td>2017-10-05</td>\n",
       "      <td>0.40</td>\n",
       "      <td>1</td>\n",
       "      <td>0</td>\n",
       "    </tr>\n",
       "    <tr>\n",
       "      <th>7</th>\n",
       "      <td>5178</td>\n",
       "      <td>Large Furnished Room Near B'way</td>\n",
       "      <td>8967</td>\n",
       "      <td>Shunichi</td>\n",
       "      <td>Manhattan</td>\n",
       "      <td>Hell's Kitchen</td>\n",
       "      <td>40.76</td>\n",
       "      <td>-73.98</td>\n",
       "      <td>Private room</td>\n",
       "      <td>79</td>\n",
       "      <td>2</td>\n",
       "      <td>430</td>\n",
       "      <td>2019-06-24</td>\n",
       "      <td>3.47</td>\n",
       "      <td>1</td>\n",
       "      <td>220</td>\n",
       "    </tr>\n",
       "    <tr>\n",
       "      <th>8</th>\n",
       "      <td>5203</td>\n",
       "      <td>Cozy Clean Guest Room - Family Apt</td>\n",
       "      <td>7490</td>\n",
       "      <td>MaryEllen</td>\n",
       "      <td>Manhattan</td>\n",
       "      <td>Upper West Side</td>\n",
       "      <td>40.80</td>\n",
       "      <td>-73.97</td>\n",
       "      <td>Private room</td>\n",
       "      <td>79</td>\n",
       "      <td>2</td>\n",
       "      <td>118</td>\n",
       "      <td>2017-07-21</td>\n",
       "      <td>0.99</td>\n",
       "      <td>1</td>\n",
       "      <td>0</td>\n",
       "    </tr>\n",
       "    <tr>\n",
       "      <th>9</th>\n",
       "      <td>5238</td>\n",
       "      <td>Cute &amp; Cozy Lower East Side 1 bdrm</td>\n",
       "      <td>7549</td>\n",
       "      <td>Ben</td>\n",
       "      <td>Manhattan</td>\n",
       "      <td>Chinatown</td>\n",
       "      <td>40.71</td>\n",
       "      <td>-73.99</td>\n",
       "      <td>Entire home/apt</td>\n",
       "      <td>150</td>\n",
       "      <td>1</td>\n",
       "      <td>160</td>\n",
       "      <td>2019-06-09</td>\n",
       "      <td>1.33</td>\n",
       "      <td>4</td>\n",
       "      <td>188</td>\n",
       "    </tr>\n",
       "    <tr>\n",
       "      <th>10</th>\n",
       "      <td>5295</td>\n",
       "      <td>Beautiful 1br on Upper West Side</td>\n",
       "      <td>7702</td>\n",
       "      <td>Lena</td>\n",
       "      <td>Manhattan</td>\n",
       "      <td>Upper West Side</td>\n",
       "      <td>40.80</td>\n",
       "      <td>-73.97</td>\n",
       "      <td>Entire home/apt</td>\n",
       "      <td>135</td>\n",
       "      <td>5</td>\n",
       "      <td>53</td>\n",
       "      <td>2019-06-22</td>\n",
       "      <td>0.43</td>\n",
       "      <td>1</td>\n",
       "      <td>6</td>\n",
       "    </tr>\n",
       "    <tr>\n",
       "      <th>11</th>\n",
       "      <td>5441</td>\n",
       "      <td>Central Manhattan/near Broadway</td>\n",
       "      <td>7989</td>\n",
       "      <td>Kate</td>\n",
       "      <td>Manhattan</td>\n",
       "      <td>Hell's Kitchen</td>\n",
       "      <td>40.76</td>\n",
       "      <td>-73.99</td>\n",
       "      <td>Private room</td>\n",
       "      <td>85</td>\n",
       "      <td>2</td>\n",
       "      <td>188</td>\n",
       "      <td>2019-06-23</td>\n",
       "      <td>1.50</td>\n",
       "      <td>1</td>\n",
       "      <td>39</td>\n",
       "    </tr>\n",
       "    <tr>\n",
       "      <th>12</th>\n",
       "      <td>5803</td>\n",
       "      <td>Lovely Room 1, Garden, Best Area, Legal rental</td>\n",
       "      <td>9744</td>\n",
       "      <td>Laurie</td>\n",
       "      <td>Brooklyn</td>\n",
       "      <td>South Slope</td>\n",
       "      <td>40.67</td>\n",
       "      <td>-73.99</td>\n",
       "      <td>Private room</td>\n",
       "      <td>89</td>\n",
       "      <td>4</td>\n",
       "      <td>167</td>\n",
       "      <td>2019-06-24</td>\n",
       "      <td>1.34</td>\n",
       "      <td>3</td>\n",
       "      <td>314</td>\n",
       "    </tr>\n",
       "    <tr>\n",
       "      <th>13</th>\n",
       "      <td>6021</td>\n",
       "      <td>Wonderful Guest Bedroom in Manhattan for SINGLES</td>\n",
       "      <td>11528</td>\n",
       "      <td>Claudio</td>\n",
       "      <td>Manhattan</td>\n",
       "      <td>Upper West Side</td>\n",
       "      <td>40.80</td>\n",
       "      <td>-73.96</td>\n",
       "      <td>Private room</td>\n",
       "      <td>85</td>\n",
       "      <td>2</td>\n",
       "      <td>113</td>\n",
       "      <td>2019-07-05</td>\n",
       "      <td>0.91</td>\n",
       "      <td>1</td>\n",
       "      <td>333</td>\n",
       "    </tr>\n",
       "    <tr>\n",
       "      <th>14</th>\n",
       "      <td>6090</td>\n",
       "      <td>West Village Nest - Superhost</td>\n",
       "      <td>11975</td>\n",
       "      <td>Alina</td>\n",
       "      <td>Manhattan</td>\n",
       "      <td>West Village</td>\n",
       "      <td>40.74</td>\n",
       "      <td>-74.01</td>\n",
       "      <td>Entire home/apt</td>\n",
       "      <td>120</td>\n",
       "      <td>90</td>\n",
       "      <td>27</td>\n",
       "      <td>2018-10-31</td>\n",
       "      <td>0.22</td>\n",
       "      <td>1</td>\n",
       "      <td>0</td>\n",
       "    </tr>\n",
       "    <tr>\n",
       "      <th>15</th>\n",
       "      <td>6848</td>\n",
       "      <td>Only 2 stops to Manhattan studio</td>\n",
       "      <td>15991</td>\n",
       "      <td>Allen &amp; Irina</td>\n",
       "      <td>Brooklyn</td>\n",
       "      <td>Williamsburg</td>\n",
       "      <td>40.71</td>\n",
       "      <td>-73.95</td>\n",
       "      <td>Entire home/apt</td>\n",
       "      <td>140</td>\n",
       "      <td>2</td>\n",
       "      <td>148</td>\n",
       "      <td>2019-06-29</td>\n",
       "      <td>1.20</td>\n",
       "      <td>1</td>\n",
       "      <td>46</td>\n",
       "    </tr>\n",
       "    <tr>\n",
       "      <th>16</th>\n",
       "      <td>7097</td>\n",
       "      <td>Perfect for Your Parents + Garden</td>\n",
       "      <td>17571</td>\n",
       "      <td>Jane</td>\n",
       "      <td>Brooklyn</td>\n",
       "      <td>Fort Greene</td>\n",
       "      <td>40.69</td>\n",
       "      <td>-73.97</td>\n",
       "      <td>Entire home/apt</td>\n",
       "      <td>215</td>\n",
       "      <td>2</td>\n",
       "      <td>198</td>\n",
       "      <td>2019-06-28</td>\n",
       "      <td>1.72</td>\n",
       "      <td>1</td>\n",
       "      <td>321</td>\n",
       "    </tr>\n",
       "    <tr>\n",
       "      <th>17</th>\n",
       "      <td>7322</td>\n",
       "      <td>Chelsea Perfect</td>\n",
       "      <td>18946</td>\n",
       "      <td>Doti</td>\n",
       "      <td>Manhattan</td>\n",
       "      <td>Chelsea</td>\n",
       "      <td>40.74</td>\n",
       "      <td>-74.00</td>\n",
       "      <td>Private room</td>\n",
       "      <td>140</td>\n",
       "      <td>1</td>\n",
       "      <td>260</td>\n",
       "      <td>2019-07-01</td>\n",
       "      <td>2.12</td>\n",
       "      <td>1</td>\n",
       "      <td>12</td>\n",
       "    </tr>\n",
       "    <tr>\n",
       "      <th>18</th>\n",
       "      <td>7726</td>\n",
       "      <td>Hip Historic Brownstone Apartment with Backyard</td>\n",
       "      <td>20950</td>\n",
       "      <td>Adam And Charity</td>\n",
       "      <td>Brooklyn</td>\n",
       "      <td>Crown Heights</td>\n",
       "      <td>40.68</td>\n",
       "      <td>-73.95</td>\n",
       "      <td>Entire home/apt</td>\n",
       "      <td>99</td>\n",
       "      <td>3</td>\n",
       "      <td>53</td>\n",
       "      <td>2019-06-22</td>\n",
       "      <td>4.44</td>\n",
       "      <td>1</td>\n",
       "      <td>21</td>\n",
       "    </tr>\n",
       "    <tr>\n",
       "      <th>19</th>\n",
       "      <td>7750</td>\n",
       "      <td>Huge 2 BR Upper East  Cental Park</td>\n",
       "      <td>17985</td>\n",
       "      <td>Sing</td>\n",
       "      <td>Manhattan</td>\n",
       "      <td>East Harlem</td>\n",
       "      <td>40.80</td>\n",
       "      <td>-73.95</td>\n",
       "      <td>Entire home/apt</td>\n",
       "      <td>190</td>\n",
       "      <td>7</td>\n",
       "      <td>0</td>\n",
       "      <td>2011-03-28</td>\n",
       "      <td>0.00</td>\n",
       "      <td>2</td>\n",
       "      <td>249</td>\n",
       "    </tr>\n",
       "  </tbody>\n",
       "</table>\n",
       "</div>"
      ],
      "text/plain": [
       "      id                                              name host_id  \\\n",
       "0   2539                Clean & quiet apt home by the park    2787   \n",
       "1   2595                             Skylit Midtown Castle    2845   \n",
       "2   3647               THE VILLAGE OF HARLEM....NEW YORK !    4632   \n",
       "3   3831                   Cozy Entire Floor of Brownstone    4869   \n",
       "4   5022  Entire Apt: Spacious Studio/Loft by central park    7192   \n",
       "5   5099         Large Cozy 1 BR Apartment In Midtown East    7322   \n",
       "6   5121                                   BlissArtsSpace!    7356   \n",
       "7   5178                  Large Furnished Room Near B'way     8967   \n",
       "8   5203                Cozy Clean Guest Room - Family Apt    7490   \n",
       "9   5238                Cute & Cozy Lower East Side 1 bdrm    7549   \n",
       "10  5295                  Beautiful 1br on Upper West Side    7702   \n",
       "11  5441                   Central Manhattan/near Broadway    7989   \n",
       "12  5803    Lovely Room 1, Garden, Best Area, Legal rental    9744   \n",
       "13  6021  Wonderful Guest Bedroom in Manhattan for SINGLES   11528   \n",
       "14  6090                     West Village Nest - Superhost   11975   \n",
       "15  6848                  Only 2 stops to Manhattan studio   15991   \n",
       "16  7097                 Perfect for Your Parents + Garden   17571   \n",
       "17  7322                                   Chelsea Perfect   18946   \n",
       "18  7726   Hip Historic Brownstone Apartment with Backyard   20950   \n",
       "19  7750                 Huge 2 BR Upper East  Cental Park   17985   \n",
       "\n",
       "           host_name neighbourhood_group       neighbourhood  latitude  \\\n",
       "0               John            Brooklyn          Kensington     40.65   \n",
       "1           Jennifer           Manhattan             Midtown     40.75   \n",
       "2          Elisabeth           Manhattan              Harlem     40.81   \n",
       "3        LisaRoxanne            Brooklyn        Clinton Hill     40.69   \n",
       "4              Laura           Manhattan         East Harlem     40.80   \n",
       "5              Chris           Manhattan         Murray Hill     40.75   \n",
       "6              Garon            Brooklyn  Bedford-Stuyvesant     40.69   \n",
       "7           Shunichi           Manhattan      Hell's Kitchen     40.76   \n",
       "8          MaryEllen           Manhattan     Upper West Side     40.80   \n",
       "9                Ben           Manhattan           Chinatown     40.71   \n",
       "10              Lena           Manhattan     Upper West Side     40.80   \n",
       "11              Kate           Manhattan      Hell's Kitchen     40.76   \n",
       "12            Laurie            Brooklyn         South Slope     40.67   \n",
       "13           Claudio           Manhattan     Upper West Side     40.80   \n",
       "14             Alina           Manhattan        West Village     40.74   \n",
       "15     Allen & Irina            Brooklyn        Williamsburg     40.71   \n",
       "16              Jane            Brooklyn         Fort Greene     40.69   \n",
       "17              Doti           Manhattan             Chelsea     40.74   \n",
       "18  Adam And Charity            Brooklyn       Crown Heights     40.68   \n",
       "19              Sing           Manhattan         East Harlem     40.80   \n",
       "\n",
       "    longitude        room_type  price  minimum_nights  number_of_reviews  \\\n",
       "0      -73.97     Private room    149               1                  9   \n",
       "1      -73.98  Entire home/apt    225               1                 45   \n",
       "2      -73.94     Private room    150               3                  0   \n",
       "3      -73.96  Entire home/apt     89               1                270   \n",
       "4      -73.94  Entire home/apt     80              10                  9   \n",
       "5      -73.97  Entire home/apt    200               3                 74   \n",
       "6      -73.96     Private room     60              45                 49   \n",
       "7      -73.98     Private room     79               2                430   \n",
       "8      -73.97     Private room     79               2                118   \n",
       "9      -73.99  Entire home/apt    150               1                160   \n",
       "10     -73.97  Entire home/apt    135               5                 53   \n",
       "11     -73.99     Private room     85               2                188   \n",
       "12     -73.99     Private room     89               4                167   \n",
       "13     -73.96     Private room     85               2                113   \n",
       "14     -74.01  Entire home/apt    120              90                 27   \n",
       "15     -73.95  Entire home/apt    140               2                148   \n",
       "16     -73.97  Entire home/apt    215               2                198   \n",
       "17     -74.00     Private room    140               1                260   \n",
       "18     -73.95  Entire home/apt     99               3                 53   \n",
       "19     -73.95  Entire home/apt    190               7                  0   \n",
       "\n",
       "   last_review  reviews_per_month  calculated_host_listings_count  \\\n",
       "0   2018-10-19               0.21                               6   \n",
       "1   2019-05-21               0.38                               2   \n",
       "2   2011-03-28               0.00                               1   \n",
       "3   2019-07-05               4.64                               1   \n",
       "4   2018-11-19               0.10                               1   \n",
       "5   2019-06-22               0.59                               1   \n",
       "6   2017-10-05               0.40                               1   \n",
       "7   2019-06-24               3.47                               1   \n",
       "8   2017-07-21               0.99                               1   \n",
       "9   2019-06-09               1.33                               4   \n",
       "10  2019-06-22               0.43                               1   \n",
       "11  2019-06-23               1.50                               1   \n",
       "12  2019-06-24               1.34                               3   \n",
       "13  2019-07-05               0.91                               1   \n",
       "14  2018-10-31               0.22                               1   \n",
       "15  2019-06-29               1.20                               1   \n",
       "16  2019-06-28               1.72                               1   \n",
       "17  2019-07-01               2.12                               1   \n",
       "18  2019-06-22               4.44                               1   \n",
       "19  2011-03-28               0.00                               2   \n",
       "\n",
       "    availability_365  \n",
       "0                365  \n",
       "1                355  \n",
       "2                365  \n",
       "3                194  \n",
       "4                  0  \n",
       "5                129  \n",
       "6                  0  \n",
       "7                220  \n",
       "8                  0  \n",
       "9                188  \n",
       "10                 6  \n",
       "11                39  \n",
       "12               314  \n",
       "13               333  \n",
       "14                 0  \n",
       "15                46  \n",
       "16               321  \n",
       "17                12  \n",
       "18                21  \n",
       "19               249  "
      ]
     },
     "metadata": {},
     "output_type": "display_data"
    }
   ],
   "source": [
    "display(dados.head(20))"
   ]
  },
  {
   "cell_type": "code",
   "execution_count": 13,
   "id": "3457a874-bd48-476e-990b-c831dafa97c9",
   "metadata": {},
   "outputs": [
    {
     "data": {
      "text/plain": [
       "id                                        object\n",
       "name                                      object\n",
       "host_id                                   object\n",
       "host_name                                 object\n",
       "neighbourhood_group                       object\n",
       "neighbourhood                             object\n",
       "latitude                                 float64\n",
       "longitude                                float64\n",
       "room_type                                 object\n",
       "price                                      int64\n",
       "minimum_nights                             int64\n",
       "number_of_reviews                          int64\n",
       "last_review                       datetime64[ns]\n",
       "reviews_per_month                        float64\n",
       "calculated_host_listings_count             int64\n",
       "availability_365                           int64\n",
       "dtype: object"
      ]
     },
     "execution_count": 13,
     "metadata": {},
     "output_type": "execute_result"
    }
   ],
   "source": [
    "dados.dtypes"
   ]
  },
  {
   "cell_type": "code",
   "execution_count": 14,
   "id": "8c301128-7d63-453d-ab1c-fcc2d08a3fc8",
   "metadata": {},
   "outputs": [
    {
     "data": {
      "text/plain": [
       "id                                0\n",
       "name                              0\n",
       "host_id                           0\n",
       "host_name                         0\n",
       "neighbourhood_group               0\n",
       "neighbourhood                     0\n",
       "latitude                          0\n",
       "longitude                         0\n",
       "room_type                         0\n",
       "price                             0\n",
       "minimum_nights                    0\n",
       "number_of_reviews                 0\n",
       "last_review                       0\n",
       "reviews_per_month                 0\n",
       "calculated_host_listings_count    0\n",
       "availability_365                  0\n",
       "dtype: int64"
      ]
     },
     "execution_count": 14,
     "metadata": {},
     "output_type": "execute_result"
    }
   ],
   "source": [
    "dados.isnull().sum()"
   ]
  },
  {
   "cell_type": "code",
   "execution_count": 15,
   "id": "927c8a67-b7af-4969-88bc-f81690759540",
   "metadata": {},
   "outputs": [
    {
     "data": {
      "text/html": [
       "<div>\n",
       "<style scoped>\n",
       "    .dataframe tbody tr th:only-of-type {\n",
       "        vertical-align: middle;\n",
       "    }\n",
       "\n",
       "    .dataframe tbody tr th {\n",
       "        vertical-align: top;\n",
       "    }\n",
       "\n",
       "    .dataframe thead th {\n",
       "        text-align: right;\n",
       "    }\n",
       "</style>\n",
       "<table border=\"1\" class=\"dataframe\">\n",
       "  <thead>\n",
       "    <tr style=\"text-align: right;\">\n",
       "      <th></th>\n",
       "      <th>latitude</th>\n",
       "      <th>longitude</th>\n",
       "      <th>price</th>\n",
       "      <th>minimum_nights</th>\n",
       "      <th>number_of_reviews</th>\n",
       "      <th>reviews_per_month</th>\n",
       "      <th>calculated_host_listings_count</th>\n",
       "      <th>availability_365</th>\n",
       "    </tr>\n",
       "  </thead>\n",
       "  <tbody>\n",
       "    <tr>\n",
       "      <th>count</th>\n",
       "      <td>48895.00</td>\n",
       "      <td>48895.00</td>\n",
       "      <td>48895.00</td>\n",
       "      <td>48895.00</td>\n",
       "      <td>48895.00</td>\n",
       "      <td>48895.00</td>\n",
       "      <td>48895.00</td>\n",
       "      <td>48895.00</td>\n",
       "    </tr>\n",
       "    <tr>\n",
       "      <th>mean</th>\n",
       "      <td>40.73</td>\n",
       "      <td>-73.95</td>\n",
       "      <td>152.72</td>\n",
       "      <td>7.03</td>\n",
       "      <td>23.27</td>\n",
       "      <td>1.09</td>\n",
       "      <td>7.14</td>\n",
       "      <td>112.78</td>\n",
       "    </tr>\n",
       "    <tr>\n",
       "      <th>std</th>\n",
       "      <td>0.05</td>\n",
       "      <td>0.05</td>\n",
       "      <td>240.15</td>\n",
       "      <td>20.51</td>\n",
       "      <td>44.55</td>\n",
       "      <td>1.60</td>\n",
       "      <td>32.95</td>\n",
       "      <td>131.62</td>\n",
       "    </tr>\n",
       "    <tr>\n",
       "      <th>min</th>\n",
       "      <td>40.50</td>\n",
       "      <td>-74.24</td>\n",
       "      <td>0.00</td>\n",
       "      <td>1.00</td>\n",
       "      <td>0.00</td>\n",
       "      <td>0.00</td>\n",
       "      <td>1.00</td>\n",
       "      <td>0.00</td>\n",
       "    </tr>\n",
       "    <tr>\n",
       "      <th>25%</th>\n",
       "      <td>40.69</td>\n",
       "      <td>-73.98</td>\n",
       "      <td>69.00</td>\n",
       "      <td>1.00</td>\n",
       "      <td>1.00</td>\n",
       "      <td>0.04</td>\n",
       "      <td>1.00</td>\n",
       "      <td>0.00</td>\n",
       "    </tr>\n",
       "    <tr>\n",
       "      <th>50%</th>\n",
       "      <td>40.72</td>\n",
       "      <td>-73.96</td>\n",
       "      <td>106.00</td>\n",
       "      <td>3.00</td>\n",
       "      <td>5.00</td>\n",
       "      <td>0.37</td>\n",
       "      <td>1.00</td>\n",
       "      <td>45.00</td>\n",
       "    </tr>\n",
       "    <tr>\n",
       "      <th>75%</th>\n",
       "      <td>40.76</td>\n",
       "      <td>-73.94</td>\n",
       "      <td>175.00</td>\n",
       "      <td>5.00</td>\n",
       "      <td>24.00</td>\n",
       "      <td>1.58</td>\n",
       "      <td>2.00</td>\n",
       "      <td>227.00</td>\n",
       "    </tr>\n",
       "    <tr>\n",
       "      <th>max</th>\n",
       "      <td>40.91</td>\n",
       "      <td>-73.71</td>\n",
       "      <td>10000.00</td>\n",
       "      <td>1250.00</td>\n",
       "      <td>629.00</td>\n",
       "      <td>58.50</td>\n",
       "      <td>327.00</td>\n",
       "      <td>365.00</td>\n",
       "    </tr>\n",
       "  </tbody>\n",
       "</table>\n",
       "</div>"
      ],
      "text/plain": [
       "       latitude  longitude    price  minimum_nights  number_of_reviews  \\\n",
       "count  48895.00   48895.00 48895.00        48895.00           48895.00   \n",
       "mean      40.73     -73.95   152.72            7.03              23.27   \n",
       "std        0.05       0.05   240.15           20.51              44.55   \n",
       "min       40.50     -74.24     0.00            1.00               0.00   \n",
       "25%       40.69     -73.98    69.00            1.00               1.00   \n",
       "50%       40.72     -73.96   106.00            3.00               5.00   \n",
       "75%       40.76     -73.94   175.00            5.00              24.00   \n",
       "max       40.91     -73.71 10000.00         1250.00             629.00   \n",
       "\n",
       "       reviews_per_month  calculated_host_listings_count  availability_365  \n",
       "count           48895.00                        48895.00          48895.00  \n",
       "mean                1.09                            7.14            112.78  \n",
       "std                 1.60                           32.95            131.62  \n",
       "min                 0.00                            1.00              0.00  \n",
       "25%                 0.04                            1.00              0.00  \n",
       "50%                 0.37                            1.00             45.00  \n",
       "75%                 1.58                            2.00            227.00  \n",
       "max                58.50                          327.00            365.00  "
      ]
     },
     "execution_count": 15,
     "metadata": {},
     "output_type": "execute_result"
    }
   ],
   "source": [
    "dados.describe()"
   ]
  },
  {
   "cell_type": "code",
   "execution_count": 21,
   "id": "62dae870-bb46-4624-927b-c355288aba6a",
   "metadata": {},
   "outputs": [],
   "source": [
    "#dados.to_csv('dados_ok.csv' , sep = '|' , index = False)"
   ]
  },
  {
   "cell_type": "markdown",
   "id": "457887b6",
   "metadata": {
    "heading_collapsed": true,
    "id": "457887b6"
   },
   "source": [
    "### Levantamento de Hipóteses"
   ]
  },
  {
   "cell_type": "markdown",
   "id": "6b894e90",
   "metadata": {
    "hidden": true,
    "id": "6b894e90"
   },
   "source": [
    "Uma hipótese geralmente é um comportamento conhecido ou não conhecido do negócio que checamos a sua validade com os dados. É através do levantamento de hipóteses que conseguimos gerar insights valiosos para os outros times. Lembrando que um insight é uma informação acionável e que ou gera surpresa por ser desconhecida, ou quebra algum paradigma com relação ao comportamento de negócios.\n",
    "\n",
    "Existem algumas técnicas de levantamento de hipóteses. A mais simples delas, que será a que utilizaremos nesse desafio, é nos colocarmos no lugar do \"dono da empresa\" e nos perguntar situações que temos como certas ou que temos como dúvida. Por exemplo:\n",
    "\n",
    "**Hipótese 1:** Os aluguéis mais caros da cidade de Nova York estão nas regiões ao entorno do Central Park.\n",
    "\n",
    "Crie 5 hipóteses para te ajudar a explorar melhor a nossa base de dados:"
   ]
  },
  {
   "cell_type": "markdown",
   "id": "39e245b5",
   "metadata": {
    "ExecuteTime": {
     "end_time": "2022-04-27T12:50:51.849307Z",
     "start_time": "2022-04-27T12:50:51.836035Z"
    },
    "hidden": true,
    "id": "39e245b5"
   },
   "source": [
    "**Regiões de Nova York**"
   ]
  },
  {
   "cell_type": "code",
   "execution_count": 141,
   "id": "ec3de246",
   "metadata": {
    "ExecuteTime": {
     "end_time": "2022-04-27T18:41:22.689744Z",
     "start_time": "2022-04-27T18:41:22.684735Z"
    },
    "hidden": true,
    "hide_input": true,
    "id": "ec3de246",
    "outputId": "6159ab86-87b0-44e5-eb71-d0711503c19e"
   },
   "outputs": [],
   "source": [
    "#Image('img/regions_nyc.jpg')"
   ]
  },
  {
   "cell_type": "markdown",
   "id": "c5a23d49",
   "metadata": {
    "id": "c5a23d49"
   },
   "source": [
    "### Exploração dos Dados"
   ]
  },
  {
   "cell_type": "markdown",
   "id": "2da8b03d",
   "metadata": {
    "heading_collapsed": true,
    "id": "2da8b03d"
   },
   "source": [
    "#### Testando as Hipóteses"
   ]
  },
  {
   "cell_type": "markdown",
   "id": "ae35076e",
   "metadata": {
    "heading_collapsed": true,
    "hidden": true,
    "id": "ae35076e"
   },
   "source": [
    "##### Hipótese 1: Os aluguéis mais caros da cidade de Nova York estão nas regiões ao entorno do Central Park."
   ]
  },
  {
   "cell_type": "code",
   "execution_count": 142,
   "id": "de529808",
   "metadata": {
    "hidden": true,
    "id": "de529808"
   },
   "outputs": [
    {
     "data": {
      "text/html": [
       "<div>\n",
       "<style scoped>\n",
       "    .dataframe tbody tr th:only-of-type {\n",
       "        vertical-align: middle;\n",
       "    }\n",
       "\n",
       "    .dataframe tbody tr th {\n",
       "        vertical-align: top;\n",
       "    }\n",
       "\n",
       "    .dataframe thead th {\n",
       "        text-align: right;\n",
       "    }\n",
       "</style>\n",
       "<table border=\"1\" class=\"dataframe\">\n",
       "  <thead>\n",
       "    <tr style=\"text-align: right;\">\n",
       "      <th></th>\n",
       "      <th>neighbourhood_group</th>\n",
       "      <th>price</th>\n",
       "    </tr>\n",
       "  </thead>\n",
       "  <tbody>\n",
       "    <tr>\n",
       "      <th>2</th>\n",
       "      <td>Manhattan</td>\n",
       "      <td>196.88</td>\n",
       "    </tr>\n",
       "    <tr>\n",
       "      <th>1</th>\n",
       "      <td>Brooklyn</td>\n",
       "      <td>124.38</td>\n",
       "    </tr>\n",
       "    <tr>\n",
       "      <th>4</th>\n",
       "      <td>Staten Island</td>\n",
       "      <td>114.81</td>\n",
       "    </tr>\n",
       "    <tr>\n",
       "      <th>3</th>\n",
       "      <td>Queens</td>\n",
       "      <td>99.52</td>\n",
       "    </tr>\n",
       "    <tr>\n",
       "      <th>0</th>\n",
       "      <td>Bronx</td>\n",
       "      <td>87.50</td>\n",
       "    </tr>\n",
       "  </tbody>\n",
       "</table>\n",
       "</div>"
      ],
      "text/plain": [
       "  neighbourhood_group  price\n",
       "2           Manhattan 196.88\n",
       "1            Brooklyn 124.38\n",
       "4       Staten Island 114.81\n",
       "3              Queens  99.52\n",
       "0               Bronx  87.50"
      ]
     },
     "execution_count": 142,
     "metadata": {},
     "output_type": "execute_result"
    }
   ],
   "source": [
    "hyp_1 = dados[['neighbourhood_group' , 'price']].groupby('neighbourhood_group').mean().reset_index().sort_values(by = ['price'] , ascending = False)\n",
    "hyp_1"
   ]
  },
  {
   "cell_type": "code",
   "execution_count": 143,
   "id": "b45446e9",
   "metadata": {
    "hidden": true,
    "id": "b45446e9"
   },
   "outputs": [
    {
     "data": {
      "image/png": "[encoded data removed]",
      "text/plain": [
       "<Figure size 720x360 with 1 Axes>"
      ]
     },
     "metadata": {
      "needs_background": "light"
     },
     "output_type": "display_data"
    }
   ],
   "source": [
    "fig = plt.figure(figsize = (10, 5))\n",
    " \n",
    "# creating the bar plot\n",
    "plt.bar(hyp_1['neighbourhood_group'], hyp_1['price'], color ='maroon',\n",
    "        width = 0.4)\n",
    " \n",
    "plt.xlabel(\"Region\")\n",
    "plt.ylabel(\"Avg. Price\")\n",
    "plt.show()"
   ]
  },
  {
   "cell_type": "markdown",
   "id": "123c69ca-848c-4cf2-a8f9-4f1ba0a4d7dc",
   "metadata": {
    "hidden": true,
    "id": "5af27d3f"
   },
   "source": [
    "**Verdadeiro :** A região de Manhattan, onde fica licalizado o Central Park, possui a média de aluguéis mais caros em Nova York. Podemos perceber que o Bronx é a região menos valorizada nos aluguéis."
   ]
  },
  {
   "cell_type": "markdown",
   "id": "8906e9b3",
   "metadata": {
    "heading_collapsed": true,
    "hidden": true,
    "id": "8906e9b3"
   },
   "source": [
    "##### Hipótese 2: A região com uma média menor de disponibilidade é State Island."
   ]
  },
  {
   "cell_type": "code",
   "execution_count": 144,
   "id": "9d7d859e",
   "metadata": {
    "hidden": true,
    "id": "9d7d859e"
   },
   "outputs": [
    {
     "data": {
      "text/html": [
       "<div>\n",
       "<style scoped>\n",
       "    .dataframe tbody tr th:only-of-type {\n",
       "        vertical-align: middle;\n",
       "    }\n",
       "\n",
       "    .dataframe tbody tr th {\n",
       "        vertical-align: top;\n",
       "    }\n",
       "\n",
       "    .dataframe thead th {\n",
       "        text-align: right;\n",
       "    }\n",
       "</style>\n",
       "<table border=\"1\" class=\"dataframe\">\n",
       "  <thead>\n",
       "    <tr style=\"text-align: right;\">\n",
       "      <th></th>\n",
       "      <th>neighbourhood_group</th>\n",
       "      <th>availability_365</th>\n",
       "    </tr>\n",
       "  </thead>\n",
       "  <tbody>\n",
       "    <tr>\n",
       "      <th>1</th>\n",
       "      <td>Brooklyn</td>\n",
       "      <td>100.23</td>\n",
       "    </tr>\n",
       "    <tr>\n",
       "      <th>2</th>\n",
       "      <td>Manhattan</td>\n",
       "      <td>111.98</td>\n",
       "    </tr>\n",
       "    <tr>\n",
       "      <th>3</th>\n",
       "      <td>Queens</td>\n",
       "      <td>144.45</td>\n",
       "    </tr>\n",
       "    <tr>\n",
       "      <th>0</th>\n",
       "      <td>Bronx</td>\n",
       "      <td>165.76</td>\n",
       "    </tr>\n",
       "    <tr>\n",
       "      <th>4</th>\n",
       "      <td>Staten Island</td>\n",
       "      <td>199.68</td>\n",
       "    </tr>\n",
       "  </tbody>\n",
       "</table>\n",
       "</div>"
      ],
      "text/plain": [
       "  neighbourhood_group  availability_365\n",
       "1            Brooklyn            100.23\n",
       "2           Manhattan            111.98\n",
       "3              Queens            144.45\n",
       "0               Bronx            165.76\n",
       "4       Staten Island            199.68"
      ]
     },
     "execution_count": 144,
     "metadata": {},
     "output_type": "execute_result"
    }
   ],
   "source": [
    "hyp_2 = dados[['neighbourhood_group' , 'availability_365']].groupby('neighbourhood_group').mean().reset_index().sort_values(by = ['availability_365'] , ascending = True)\n",
    "hyp_2"
   ]
  },
  {
   "cell_type": "code",
   "execution_count": 145,
   "id": "c48b2029",
   "metadata": {
    "hidden": true,
    "id": "c48b2029"
   },
   "outputs": [
    {
     "data": {
      "image/png": "[encoded data removed]",
      "text/plain": [
       "<Figure size 720x360 with 1 Axes>"
      ]
     },
     "metadata": {
      "needs_background": "light"
     },
     "output_type": "display_data"
    }
   ],
   "source": [
    "fig = plt.figure(figsize = (10, 5))\n",
    " \n",
    "# creating the bar plot\n",
    "plt.bar(hyp_2['neighbourhood_group'], hyp_2['availability_365'], color ='maroon',\n",
    "        width = 0.4)\n",
    " \n",
    "plt.xlabel(\"Region\")\n",
    "plt.ylabel(\"Avg. Availability\")\n",
    "plt.show()"
   ]
  },
  {
   "cell_type": "markdown",
   "id": "e5a8211a-0a08-452a-88de-dc61674114a4",
   "metadata": {
    "hidden": true,
    "id": "bc1a56f8"
   },
   "source": [
    "**Falso :** A região com menor média de disponibilidade é o Brooklin. Se compararmos esses dados com os dados da hipótese 2, a região Staten Island tem a maior disponibilidade, e com a terceira maior média nos valores de aluguel. O que pode indicar que há espaço para tentar atrair mais hóspedes, melhorando a divulgação dos imóveis, pois possuem uma média de preços maior que a mediana de todo dataset."
   ]
  },
  {
   "cell_type": "markdown",
   "id": "6a910dee",
   "metadata": {
    "heading_collapsed": true,
    "hidden": true,
    "id": "6a910dee"
   },
   "source": [
    "##### Hipótese 3: A região com maior média de reviews por mês é Manhattan."
   ]
  },
  {
   "cell_type": "code",
   "execution_count": 146,
   "id": "bc9d6950",
   "metadata": {
    "hidden": true,
    "id": "bc9d6950"
   },
   "outputs": [
    {
     "data": {
      "text/html": [
       "<div>\n",
       "<style scoped>\n",
       "    .dataframe tbody tr th:only-of-type {\n",
       "        vertical-align: middle;\n",
       "    }\n",
       "\n",
       "    .dataframe tbody tr th {\n",
       "        vertical-align: top;\n",
       "    }\n",
       "\n",
       "    .dataframe thead th {\n",
       "        text-align: right;\n",
       "    }\n",
       "</style>\n",
       "<table border=\"1\" class=\"dataframe\">\n",
       "  <thead>\n",
       "    <tr style=\"text-align: right;\">\n",
       "      <th></th>\n",
       "      <th>neighbourhood_group</th>\n",
       "      <th>reviews_per_month</th>\n",
       "    </tr>\n",
       "  </thead>\n",
       "  <tbody>\n",
       "    <tr>\n",
       "      <th>4</th>\n",
       "      <td>Staten Island</td>\n",
       "      <td>1.58</td>\n",
       "    </tr>\n",
       "    <tr>\n",
       "      <th>3</th>\n",
       "      <td>Queens</td>\n",
       "      <td>1.57</td>\n",
       "    </tr>\n",
       "    <tr>\n",
       "      <th>0</th>\n",
       "      <td>Bronx</td>\n",
       "      <td>1.48</td>\n",
       "    </tr>\n",
       "    <tr>\n",
       "      <th>1</th>\n",
       "      <td>Brooklyn</td>\n",
       "      <td>1.05</td>\n",
       "    </tr>\n",
       "    <tr>\n",
       "      <th>2</th>\n",
       "      <td>Manhattan</td>\n",
       "      <td>0.98</td>\n",
       "    </tr>\n",
       "  </tbody>\n",
       "</table>\n",
       "</div>"
      ],
      "text/plain": [
       "  neighbourhood_group  reviews_per_month\n",
       "4       Staten Island               1.58\n",
       "3              Queens               1.57\n",
       "0               Bronx               1.48\n",
       "1            Brooklyn               1.05\n",
       "2           Manhattan               0.98"
      ]
     },
     "execution_count": 146,
     "metadata": {},
     "output_type": "execute_result"
    }
   ],
   "source": [
    "hyp_3 = dados[['neighbourhood_group' , 'reviews_per_month']].groupby('neighbourhood_group').mean().reset_index().sort_values(by = ['reviews_per_month'] , ascending = False)\n",
    "hyp_3"
   ]
  },
  {
   "cell_type": "code",
   "execution_count": 147,
   "id": "e5cfa650",
   "metadata": {
    "hidden": true,
    "id": "e5cfa650"
   },
   "outputs": [
    {
     "data": {
      "image/png": "[encoded data removed]",
      "text/plain": [
       "<Figure size 720x360 with 1 Axes>"
      ]
     },
     "metadata": {
      "needs_background": "light"
     },
     "output_type": "display_data"
    }
   ],
   "source": [
    "fig = plt.figure(figsize = (10, 5))\n",
    " \n",
    "# creating the bar plot\n",
    "plt.bar(hyp_3['neighbourhood_group'], hyp_3['reviews_per_month'], color ='maroon',\n",
    "        width = 0.4)\n",
    " \n",
    "plt.xlabel(\"Region\")\n",
    "plt.ylabel(\"Avg. Reviews Per Month\")\n",
    "plt.show()"
   ]
  },
  {
   "cell_type": "markdown",
   "id": "dd601acf-9220-4d3f-bf65-787858a1d2f8",
   "metadata": {
    "hidden": true,
    "id": "0965131c"
   },
   "source": [
    "**Faso :** A região com maior média de reviews por mês é Staten Island. Seria interessante incrementar essa análise qualitativamente, com a porcentagem de reviews positivos e negativos."
   ]
  },
  {
   "cell_type": "markdown",
   "id": "28adc720",
   "metadata": {
    "heading_collapsed": true,
    "hidden": true,
    "id": "28adc720"
   },
   "source": [
    "##### Hipótese 4: A região com uma média maior de noites mínimas é o Queens."
   ]
  },
  {
   "cell_type": "code",
   "execution_count": 148,
   "id": "24191a93",
   "metadata": {
    "hidden": true,
    "id": "24191a93"
   },
   "outputs": [
    {
     "data": {
      "text/html": [
       "<div>\n",
       "<style scoped>\n",
       "    .dataframe tbody tr th:only-of-type {\n",
       "        vertical-align: middle;\n",
       "    }\n",
       "\n",
       "    .dataframe tbody tr th {\n",
       "        vertical-align: top;\n",
       "    }\n",
       "\n",
       "    .dataframe thead th {\n",
       "        text-align: right;\n",
       "    }\n",
       "</style>\n",
       "<table border=\"1\" class=\"dataframe\">\n",
       "  <thead>\n",
       "    <tr style=\"text-align: right;\">\n",
       "      <th></th>\n",
       "      <th>neighbourhood_group</th>\n",
       "      <th>minimum_nights</th>\n",
       "    </tr>\n",
       "  </thead>\n",
       "  <tbody>\n",
       "    <tr>\n",
       "      <th>2</th>\n",
       "      <td>Manhattan</td>\n",
       "      <td>8.58</td>\n",
       "    </tr>\n",
       "    <tr>\n",
       "      <th>1</th>\n",
       "      <td>Brooklyn</td>\n",
       "      <td>6.06</td>\n",
       "    </tr>\n",
       "    <tr>\n",
       "      <th>3</th>\n",
       "      <td>Queens</td>\n",
       "      <td>5.18</td>\n",
       "    </tr>\n",
       "    <tr>\n",
       "      <th>4</th>\n",
       "      <td>Staten Island</td>\n",
       "      <td>4.83</td>\n",
       "    </tr>\n",
       "    <tr>\n",
       "      <th>0</th>\n",
       "      <td>Bronx</td>\n",
       "      <td>4.56</td>\n",
       "    </tr>\n",
       "  </tbody>\n",
       "</table>\n",
       "</div>"
      ],
      "text/plain": [
       "  neighbourhood_group  minimum_nights\n",
       "2           Manhattan            8.58\n",
       "1            Brooklyn            6.06\n",
       "3              Queens            5.18\n",
       "4       Staten Island            4.83\n",
       "0               Bronx            4.56"
      ]
     },
     "execution_count": 148,
     "metadata": {},
     "output_type": "execute_result"
    }
   ],
   "source": [
    "hyp_4 = dados[['neighbourhood_group' , 'minimum_nights']].groupby('neighbourhood_group').mean().reset_index().sort_values(by = ['minimum_nights'] , ascending = False)\n",
    "hyp_4"
   ]
  },
  {
   "cell_type": "code",
   "execution_count": 149,
   "id": "cfbdde69",
   "metadata": {
    "hidden": true,
    "id": "cfbdde69"
   },
   "outputs": [
    {
     "data": {
      "image/png": "[encoded data removed]",
      "text/plain": [
       "<Figure size 720x360 with 1 Axes>"
      ]
     },
     "metadata": {
      "needs_background": "light"
     },
     "output_type": "display_data"
    }
   ],
   "source": [
    "fig = plt.figure(figsize = (10, 5))\n",
    " \n",
    "# creating the bar plot\n",
    "plt.bar(hyp_4['neighbourhood_group'], hyp_4['minimum_nights'], color ='maroon',\n",
    "        width = 0.4)\n",
    " \n",
    "plt.xlabel(\"Region\")\n",
    "plt.ylabel(\"Avg. Minimum Nights\")\n",
    "plt.show()"
   ]
  },
  {
   "cell_type": "markdown",
   "id": "eb098e45-ceb9-4529-bf8b-3693914a1efd",
   "metadata": {
    "hidden": true,
    "id": "79a23d42"
   },
   "source": [
    "**Falso :** A região com maior média de noites mínimas é Manhattan, o que mostra que as ofertas maiores são para pessoas que venham e fiquem mais tempo, talvez para aproveitar mais as atrações da região, diferente do Bronx, que deve buscar uma rotatividade maior."
   ]
  },
  {
   "cell_type": "markdown",
   "id": "1d0e3007",
   "metadata": {
    "heading_collapsed": true,
    "hidden": true,
    "id": "1d0e3007"
   },
   "source": [
    "##### Hipótese 5: A região com a menor média de locações é o Bronx."
   ]
  },
  {
   "cell_type": "code",
   "execution_count": 150,
   "id": "849442ac",
   "metadata": {
    "hidden": true,
    "id": "849442ac"
   },
   "outputs": [
    {
     "data": {
      "text/html": [
       "<div>\n",
       "<style scoped>\n",
       "    .dataframe tbody tr th:only-of-type {\n",
       "        vertical-align: middle;\n",
       "    }\n",
       "\n",
       "    .dataframe tbody tr th {\n",
       "        vertical-align: top;\n",
       "    }\n",
       "\n",
       "    .dataframe thead th {\n",
       "        text-align: right;\n",
       "    }\n",
       "</style>\n",
       "<table border=\"1\" class=\"dataframe\">\n",
       "  <thead>\n",
       "    <tr style=\"text-align: right;\">\n",
       "      <th></th>\n",
       "      <th>neighbourhood_group</th>\n",
       "      <th>calculated_host_listings_count</th>\n",
       "    </tr>\n",
       "  </thead>\n",
       "  <tbody>\n",
       "    <tr>\n",
       "      <th>0</th>\n",
       "      <td>Bronx</td>\n",
       "      <td>2.23</td>\n",
       "    </tr>\n",
       "    <tr>\n",
       "      <th>1</th>\n",
       "      <td>Brooklyn</td>\n",
       "      <td>2.28</td>\n",
       "    </tr>\n",
       "    <tr>\n",
       "      <th>4</th>\n",
       "      <td>Staten Island</td>\n",
       "      <td>2.32</td>\n",
       "    </tr>\n",
       "    <tr>\n",
       "      <th>3</th>\n",
       "      <td>Queens</td>\n",
       "      <td>4.06</td>\n",
       "    </tr>\n",
       "    <tr>\n",
       "      <th>2</th>\n",
       "      <td>Manhattan</td>\n",
       "      <td>12.79</td>\n",
       "    </tr>\n",
       "  </tbody>\n",
       "</table>\n",
       "</div>"
      ],
      "text/plain": [
       "  neighbourhood_group  calculated_host_listings_count\n",
       "0               Bronx                            2.23\n",
       "1            Brooklyn                            2.28\n",
       "4       Staten Island                            2.32\n",
       "3              Queens                            4.06\n",
       "2           Manhattan                           12.79"
      ]
     },
     "execution_count": 150,
     "metadata": {},
     "output_type": "execute_result"
    }
   ],
   "source": [
    "hyp_5 = dados[['neighbourhood_group' , 'calculated_host_listings_count']].groupby('neighbourhood_group').mean().reset_index().sort_values(by = ['calculated_host_listings_count'] , ascending = True)\n",
    "hyp_5"
   ]
  },
  {
   "cell_type": "code",
   "execution_count": 151,
   "id": "50cdd710",
   "metadata": {
    "hidden": true,
    "id": "50cdd710"
   },
   "outputs": [
    {
     "data": {
      "image/png": "[encoded data removed]",
      "text/plain": [
       "<Figure size 720x360 with 1 Axes>"
      ]
     },
     "metadata": {
      "needs_background": "light"
     },
     "output_type": "display_data"
    }
   ],
   "source": [
    "fig = plt.figure(figsize = (10, 5))\n",
    " \n",
    "# creating the bar plot\n",
    "plt.bar(hyp_5['neighbourhood_group'], hyp_5['calculated_host_listings_count'], color ='maroon',\n",
    "        width = 0.4)\n",
    " \n",
    "plt.xlabel(\"Region\")\n",
    "plt.ylabel(\"Avg. Nº Alocações\")\n",
    "plt.show()"
   ]
  },
  {
   "cell_type": "markdown",
   "id": "54311a54-b88e-4038-a7f5-7c645d80777e",
   "metadata": {
    "hidden": true,
    "id": "a3b22a48"
   },
   "source": [
    "**Verdadeiro :** A região com menor média de alocações é o Bronx. Podemos perceber que Manhattan é a região com média maior de alocações e com média de preços maior. A segunda mais alocada, Queens, possui a segunda menor média de preços de aluguel, maior apenas que o Bronx."
   ]
  },
  {
   "cell_type": "markdown",
   "id": "c10ee88a",
   "metadata": {
    "id": "c10ee88a"
   },
   "source": [
    "#### Respondendo as Perguntas do Investidor"
   ]
  },
  {
   "cell_type": "markdown",
   "id": "9e8c1898",
   "metadata": {
    "heading_collapsed": true,
    "id": "9e8c1898"
   },
   "source": [
    "##### 1. Qual o `id` do imóvel com o aluguel (diária) mais caro da base de dados?"
   ]
  },
  {
   "cell_type": "code",
   "execution_count": 152,
   "id": "997412b7",
   "metadata": {
    "hidden": true,
    "id": "997412b7"
   },
   "outputs": [
    {
     "data": {
      "text/plain": [
       "7003697"
      ]
     },
     "execution_count": 152,
     "metadata": {},
     "output_type": "execute_result"
    }
   ],
   "source": [
    "qst_1 = dados[['id' , 'price']].sort_values(by = ['price' , 'id'] , ascending = [False , True]).iloc[0,0]\n",
    "qst_1"
   ]
  },
  {
   "cell_type": "code",
   "execution_count": 153,
   "id": "695ce607",
   "metadata": {
    "hidden": true,
    "id": "695ce607"
   },
   "outputs": [
    {
     "name": "stdout",
     "output_type": "stream",
     "text": [
      "O id do imóvel com diária mais cara é o 7003697.\n"
     ]
    }
   ],
   "source": [
    "print('O id do imóvel com diária mais cara é o {}.'.format(qst_1))"
   ]
  },
  {
   "cell_type": "code",
   "execution_count": null,
   "id": "32b036bf",
   "metadata": {
    "hidden": true,
    "id": "32b036bf"
   },
   "outputs": [],
   "source": []
  },
  {
   "cell_type": "markdown",
   "id": "9ebd9552",
   "metadata": {
    "heading_collapsed": true,
    "id": "9ebd9552"
   },
   "source": [
    "##### 2. Qual o `id` do imóvel com o aluguel (diária) mais barato da base de dados?"
   ]
  },
  {
   "cell_type": "code",
   "execution_count": 154,
   "id": "079f9c1e",
   "metadata": {
    "hidden": true,
    "id": "079f9c1e"
   },
   "outputs": [
    {
     "data": {
      "text/plain": [
       "1620248"
      ]
     },
     "execution_count": 154,
     "metadata": {},
     "output_type": "execute_result"
    }
   ],
   "source": [
    "qst_2 = dados[['id' , 'price']].loc[dados['price'] != 0].sort_values(by = ['price' , 'id'] , ascending = [True , True]).iloc[0,0]\n",
    "qst_2"
   ]
  },
  {
   "cell_type": "code",
   "execution_count": 155,
   "id": "8bb3ab9d",
   "metadata": {
    "hidden": true,
    "id": "8bb3ab9d"
   },
   "outputs": [
    {
     "name": "stdout",
     "output_type": "stream",
     "text": [
      "O id do imóvel com a diária mais barata é o 1620248.\n"
     ]
    }
   ],
   "source": [
    "print('O id do imóvel com a diária mais barata é o {}.'.format(qst_2))"
   ]
  },
  {
   "cell_type": "code",
   "execution_count": null,
   "id": "1a8d9887",
   "metadata": {
    "hidden": true,
    "id": "1a8d9887"
   },
   "outputs": [],
   "source": []
  },
  {
   "cell_type": "markdown",
   "id": "41f0586c",
   "metadata": {
    "heading_collapsed": true,
    "id": "41f0586c"
   },
   "source": [
    "##### 3. Qual o `id`  do imóvel que foi mais locado da base de dados?"
   ]
  },
  {
   "cell_type": "code",
   "execution_count": 156,
   "id": "17d83fec",
   "metadata": {
    "hidden": true,
    "id": "17d83fec"
   },
   "outputs": [
    {
     "data": {
      "text/plain": [
       "30181691"
      ]
     },
     "execution_count": 156,
     "metadata": {},
     "output_type": "execute_result"
    }
   ],
   "source": [
    "qst_3 = dados[['id' , 'calculated_host_listings_count']].sort_values(by = ['calculated_host_listings_count' , 'id'] , ascending = [False , True]).iloc[0,0]\n",
    "qst_3"
   ]
  },
  {
   "cell_type": "code",
   "execution_count": 157,
   "id": "2ca99865",
   "metadata": {
    "hidden": true,
    "id": "2ca99865"
   },
   "outputs": [
    {
     "name": "stdout",
     "output_type": "stream",
     "text": [
      "O id do imóvel mais locado na base de dados é o 30181691.\n"
     ]
    }
   ],
   "source": [
    "print('O id do imóvel mais locado na base de dados é o {}.'.format(qst_3))"
   ]
  },
  {
   "cell_type": "code",
   "execution_count": null,
   "id": "5ad1ef38",
   "metadata": {
    "hidden": true,
    "id": "5ad1ef38"
   },
   "outputs": [],
   "source": []
  },
  {
   "cell_type": "markdown",
   "id": "48d40ea0",
   "metadata": {
    "heading_collapsed": true,
    "id": "48d40ea0"
   },
   "source": [
    "##### 4. Qual o `id`  do imóvel que ficou mais tempo com o anúncio disponível, em dias, para locação na base de dados?"
   ]
  },
  {
   "cell_type": "code",
   "execution_count": 158,
   "id": "5adec473",
   "metadata": {
    "hidden": true,
    "id": "5adec473"
   },
   "outputs": [
    {
     "data": {
      "text/plain": [
       "2539"
      ]
     },
     "execution_count": 158,
     "metadata": {},
     "output_type": "execute_result"
    }
   ],
   "source": [
    "qst_4 = dados[['id' , 'availability_365']].sort_values(by = ['availability_365' , 'id'] , ascending = [False , True]).iloc[0,0]\n",
    "qst_4"
   ]
  },
  {
   "cell_type": "code",
   "execution_count": 159,
   "id": "1f4da28e",
   "metadata": {
    "hidden": true,
    "id": "1f4da28e"
   },
   "outputs": [
    {
     "name": "stdout",
     "output_type": "stream",
     "text": [
      "O id do imóvel que ficou mais tempo com anúncio disponível foi o 2539.\n"
     ]
    }
   ],
   "source": [
    "print('O id do imóvel que ficou mais tempo com anúncio disponível foi o {}.'.format(qst_4))"
   ]
  },
  {
   "cell_type": "code",
   "execution_count": null,
   "id": "a7ac802e",
   "metadata": {
    "hidden": true,
    "id": "a7ac802e"
   },
   "outputs": [],
   "source": []
  },
  {
   "cell_type": "markdown",
   "id": "42053201",
   "metadata": {
    "heading_collapsed": true,
    "id": "42053201"
   },
   "source": [
    "##### 5. Qual o `id` do imóvel que ficou menos tempo com o anúncio disponível, em dias, para locação na base de dados?"
   ]
  },
  {
   "cell_type": "code",
   "execution_count": 160,
   "id": "c9d07f73",
   "metadata": {
    "hidden": true,
    "id": "c9d07f73"
   },
   "outputs": [
    {
     "data": {
      "text/plain": [
       "5022"
      ]
     },
     "execution_count": 160,
     "metadata": {},
     "output_type": "execute_result"
    }
   ],
   "source": [
    "qst_5 = dados[['id' , 'availability_365']].sort_values(by = ['availability_365' , 'id'] , ascending = [True , True]).iloc[0,0]\n",
    "qst_5"
   ]
  },
  {
   "cell_type": "code",
   "execution_count": 161,
   "id": "fd9df34e",
   "metadata": {
    "hidden": true,
    "id": "fd9df34e"
   },
   "outputs": [
    {
     "name": "stdout",
     "output_type": "stream",
     "text": [
      "O imóvel que ficou menos tempo com o anúncio disponível foi o 5022.\n"
     ]
    }
   ],
   "source": [
    "print('O imóvel que ficou menos tempo com o anúncio disponível foi o {}.'.format(qst_5))"
   ]
  },
  {
   "cell_type": "code",
   "execution_count": null,
   "id": "b004fac9",
   "metadata": {
    "hidden": true,
    "id": "b004fac9"
   },
   "outputs": [],
   "source": []
  },
  {
   "cell_type": "markdown",
   "id": "8fe1e6c1",
   "metadata": {
    "heading_collapsed": true,
    "id": "8fe1e6c1"
   },
   "source": [
    "##### 6. O imóvel com o maior valor de aluguel (diária) da base de dados é o imóvel que possui mais avaliações na base de dados?"
   ]
  },
  {
   "cell_type": "code",
   "execution_count": 162,
   "id": "5406672d",
   "metadata": {
    "hidden": true,
    "id": "5406672d"
   },
   "outputs": [
    {
     "data": {
      "text/plain": [
       "9145202"
      ]
     },
     "execution_count": 162,
     "metadata": {},
     "output_type": "execute_result"
    }
   ],
   "source": [
    "qst_6 = dados[['id' , 'number_of_reviews']].sort_values(by = ['number_of_reviews' , 'id'] , ascending = [False , True]).iloc[0,0]\n",
    "qst_6"
   ]
  },
  {
   "cell_type": "code",
   "execution_count": 163,
   "id": "4a5ee8ef",
   "metadata": {
    "hidden": true,
    "id": "4a5ee8ef"
   },
   "outputs": [
    {
     "name": "stdout",
     "output_type": "stream",
     "text": [
      "O imóvel com maior valor de aluguel não é o mesmo imóvel que possui mais avaliações. Seu id é o 9145202.\n"
     ]
    }
   ],
   "source": [
    "if qst_6 == qst_1:\n",
    "    print('O imóvel com maior valor de aluguel é o mesmo imóvel que possui mais avaliações. Seu id é o {}.'.format(qst_6))\n",
    "else:\n",
    "    print('O imóvel com maior valor de aluguel não é o mesmo imóvel que possui mais avaliações. Seu id é o {}.'.format(qst_6))"
   ]
  },
  {
   "cell_type": "code",
   "execution_count": null,
   "id": "e0b9a40c",
   "metadata": {
    "hidden": true,
    "id": "e0b9a40c"
   },
   "outputs": [],
   "source": []
  },
  {
   "cell_type": "markdown",
   "id": "9147e329",
   "metadata": {
    "heading_collapsed": true,
    "id": "9147e329"
   },
   "source": [
    "##### 7. O imóvel que possui a menor quantidade mínima de diárias para locação é também o imóvel que possuí o aluguel mais caro?"
   ]
  },
  {
   "cell_type": "code",
   "execution_count": 164,
   "id": "557caf1f",
   "metadata": {
    "hidden": true,
    "id": "557caf1f"
   },
   "outputs": [
    {
     "data": {
      "text/plain": [
       "2539"
      ]
     },
     "execution_count": 164,
     "metadata": {},
     "output_type": "execute_result"
    }
   ],
   "source": [
    "qst_7 = dados[['id' , 'minimum_nights']].sort_values(by = ['minimum_nights' , 'id'] , ascending = [True , True]).iloc[0,0]\n",
    "qst_7"
   ]
  },
  {
   "cell_type": "code",
   "execution_count": 165,
   "id": "c66900f8",
   "metadata": {
    "hidden": true,
    "id": "c66900f8"
   },
   "outputs": [
    {
     "name": "stdout",
     "output_type": "stream",
     "text": [
      "O imóvel com a menor quantidade mínima de diárias não é o mesmo imóvel com aluguel mais caro. Seu id é o 2539.\n"
     ]
    }
   ],
   "source": [
    "if qst_7 == qst_1:\n",
    "    print('O imóvel com a menor quantidade mínima de diárias é o mesmo imóvel com aluguel mais caro. Seu id é o {}.'.format(qst_7))\n",
    "else:\n",
    "    print('O imóvel com a menor quantidade mínima de diárias não é o mesmo imóvel com aluguel mais caro. Seu id é o {}.'.format(qst_7))"
   ]
  },
  {
   "cell_type": "code",
   "execution_count": null,
   "id": "f4f17763",
   "metadata": {
    "hidden": true,
    "id": "f4f17763"
   },
   "outputs": [],
   "source": []
  },
  {
   "cell_type": "markdown",
   "id": "5b61000c",
   "metadata": {
    "heading_collapsed": true,
    "id": "5b61000c"
   },
   "source": [
    "##### 8. Qual é a média do número mínimo de diárias para locação de um imóvel? "
   ]
  },
  {
   "cell_type": "code",
   "execution_count": 166,
   "id": "18bb68f4",
   "metadata": {
    "hidden": true,
    "id": "18bb68f4"
   },
   "outputs": [
    {
     "data": {
      "text/plain": [
       "7.029962163820431"
      ]
     },
     "execution_count": 166,
     "metadata": {},
     "output_type": "execute_result"
    }
   ],
   "source": [
    "qst_8 = dados['minimum_nights'].mean()\n",
    "qst_8"
   ]
  },
  {
   "cell_type": "code",
   "execution_count": 167,
   "id": "c3efcccc",
   "metadata": {
    "hidden": true,
    "id": "c3efcccc"
   },
   "outputs": [
    {
     "name": "stdout",
     "output_type": "stream",
     "text": [
      "A média do número mínimo de diárias para locação é de 7.03 dias.\n"
     ]
    }
   ],
   "source": [
    "print('A média do número mínimo de diárias para locação é de {:.2f} dias.'.format(qst_8))"
   ]
  },
  {
   "cell_type": "code",
   "execution_count": null,
   "id": "1607ce25",
   "metadata": {
    "hidden": true,
    "id": "1607ce25"
   },
   "outputs": [],
   "source": []
  },
  {
   "cell_type": "markdown",
   "id": "7bf14986",
   "metadata": {
    "heading_collapsed": true,
    "id": "7bf14986"
   },
   "source": [
    "##### 9. Qual é o `id` do imóvel com a menor quantidade mínima de diárias para locação da base de dados?"
   ]
  },
  {
   "cell_type": "code",
   "execution_count": 168,
   "id": "de5756af",
   "metadata": {
    "hidden": true,
    "id": "de5756af"
   },
   "outputs": [
    {
     "data": {
      "text/plain": [
       "2539"
      ]
     },
     "execution_count": 168,
     "metadata": {},
     "output_type": "execute_result"
    }
   ],
   "source": [
    "qst_9 = dados[['id' , 'minimum_nights']].sort_values(by = ['minimum_nights' , 'id'] , ascending = [True , True]).iloc[0,0]\n",
    "qst_9"
   ]
  },
  {
   "cell_type": "code",
   "execution_count": 169,
   "id": "3e9291ff",
   "metadata": {
    "hidden": true,
    "id": "3e9291ff"
   },
   "outputs": [
    {
     "name": "stdout",
     "output_type": "stream",
     "text": [
      "O id do imóvel com a menor quantidade mínima de diárias para alocação é 2539.\n"
     ]
    }
   ],
   "source": [
    "print('O id do imóvel com a menor quantidade mínima de diárias para alocação é {}.'.format(qst_9))"
   ]
  },
  {
   "cell_type": "code",
   "execution_count": null,
   "id": "c3dc912d",
   "metadata": {
    "hidden": true,
    "id": "c3dc912d"
   },
   "outputs": [],
   "source": []
  },
  {
   "cell_type": "markdown",
   "id": "cecba7a6",
   "metadata": {
    "heading_collapsed": true,
    "id": "cecba7a6"
   },
   "source": [
    "##### 10. Qual é o `id` do host que possui o imóvel mais alugado na base de dados?"
   ]
  },
  {
   "cell_type": "code",
   "execution_count": 170,
   "id": "36ff4870",
   "metadata": {
    "hidden": true,
    "id": "36ff4870"
   },
   "outputs": [
    {
     "data": {
      "text/plain": [
       "219517861"
      ]
     },
     "execution_count": 170,
     "metadata": {},
     "output_type": "execute_result"
    }
   ],
   "source": [
    "qst_10 = dados[['id' , 'host_id' , 'calculated_host_listings_count']].sort_values(by = ['calculated_host_listings_count' , 'id'] , ascending = [False , True]).reset_index().loc[0 , 'host_id']\n",
    "qst_10"
   ]
  },
  {
   "cell_type": "code",
   "execution_count": 171,
   "id": "6765a27a",
   "metadata": {
    "hidden": true,
    "id": "6765a27a"
   },
   "outputs": [
    {
     "name": "stdout",
     "output_type": "stream",
     "text": [
      "O id do host que possui o imóvel mais alugado é 219517861.\n"
     ]
    }
   ],
   "source": [
    "print('O id do host que possui o imóvel mais alugado é {}.'.format(qst_10))"
   ]
  },
  {
   "cell_type": "code",
   "execution_count": null,
   "id": "f7328eed",
   "metadata": {
    "hidden": true,
    "id": "f7328eed"
   },
   "outputs": [],
   "source": []
  },
  {
   "cell_type": "markdown",
   "id": "5fc653c0",
   "metadata": {
    "heading_collapsed": true,
    "id": "5fc653c0"
   },
   "source": [
    "##### 11. Qual é o `id` do host que possui o imóvel menos alugado na base de dados?"
   ]
  },
  {
   "cell_type": "code",
   "execution_count": 172,
   "id": "a7ddf7de",
   "metadata": {
    "hidden": true,
    "id": "a7ddf7de"
   },
   "outputs": [],
   "source": [
    "qst_11 = dados[['id' , 'host_id' , 'calculated_host_listings_count']].sort_values(by = ['calculated_host_listings_count' , 'id'] , ascending = [True , True]).reset_index().loc[0 , 'host_id']"
   ]
  },
  {
   "cell_type": "code",
   "execution_count": null,
   "id": "e563249b",
   "metadata": {
    "hidden": true,
    "id": "e563249b"
   },
   "outputs": [],
   "source": []
  },
  {
   "cell_type": "code",
   "execution_count": 173,
   "id": "1d87f050",
   "metadata": {
    "hidden": true,
    "id": "1d87f050"
   },
   "outputs": [
    {
     "name": "stdout",
     "output_type": "stream",
     "text": [
      "O id do host que possui o imóvel menos lugado é 4632.\n"
     ]
    }
   ],
   "source": [
    "print('O id do host que possui o imóvel menos lugado é {}.'.format(qst_11))"
   ]
  },
  {
   "cell_type": "markdown",
   "id": "4d4cadff",
   "metadata": {
    "heading_collapsed": true,
    "id": "4d4cadff"
   },
   "source": [
    "##### 12. Qual é o `id` do host que possui o imóvel com mais avaliações na base de dados?"
   ]
  },
  {
   "cell_type": "code",
   "execution_count": 174,
   "id": "486848f7",
   "metadata": {
    "hidden": true,
    "id": "486848f7"
   },
   "outputs": [],
   "source": [
    "qst_12 = dados[['id' , 'host_id' , 'number_of_reviews']].sort_values(by = ['number_of_reviews' , 'id'] , ascending = [False , True]).reset_index().loc[0 , 'host_id']"
   ]
  },
  {
   "cell_type": "code",
   "execution_count": null,
   "id": "0aa3b03b",
   "metadata": {
    "hidden": true,
    "id": "0aa3b03b"
   },
   "outputs": [],
   "source": []
  },
  {
   "cell_type": "code",
   "execution_count": 175,
   "id": "cea2c76a",
   "metadata": {
    "hidden": true,
    "id": "cea2c76a"
   },
   "outputs": [
    {
     "name": "stdout",
     "output_type": "stream",
     "text": [
      "O id do host que possui o imóvel com mais avaliações é 47621202.\n"
     ]
    }
   ],
   "source": [
    "print('O id do host que possui o imóvel com mais avaliações é {}.'.format(qst_12))"
   ]
  },
  {
   "cell_type": "markdown",
   "id": "abe48688",
   "metadata": {
    "heading_collapsed": true,
    "id": "abe48688"
   },
   "source": [
    "##### 13. Qual é o `id` do host que possui a maior quantidade de imóveis cadastrados na base de dados?"
   ]
  },
  {
   "cell_type": "code",
   "execution_count": 176,
   "id": "f9ac7151",
   "metadata": {
    "hidden": true,
    "id": "f9ac7151"
   },
   "outputs": [],
   "source": [
    "qst_13 = dados[['id' , 'host_id']].groupby(by = 'host_id').count().sort_values(by = 'id' , ascending = False).reset_index().loc[0 , 'host_id']"
   ]
  },
  {
   "cell_type": "code",
   "execution_count": null,
   "id": "2bd4a498",
   "metadata": {
    "hidden": true,
    "id": "2bd4a498"
   },
   "outputs": [],
   "source": []
  },
  {
   "cell_type": "code",
   "execution_count": 177,
   "id": "7fe59a59",
   "metadata": {
    "hidden": true,
    "id": "7fe59a59"
   },
   "outputs": [
    {
     "name": "stdout",
     "output_type": "stream",
     "text": [
      "O id do host com maior quantidade de imóveis cadastrados é 219517861.\n"
     ]
    }
   ],
   "source": [
    "print('O id do host com maior quantidade de imóveis cadastrados é {}.'.format(qst_13))"
   ]
  },
  {
   "cell_type": "markdown",
   "id": "e3ba9d63",
   "metadata": {
    "heading_collapsed": true,
    "id": "e3ba9d63"
   },
   "source": [
    "##### 14. Qual o `id` do host que possui o imóvel com a última avaliação feita na base de dados?"
   ]
  },
  {
   "cell_type": "code",
   "execution_count": 178,
   "id": "3e0a5fcc",
   "metadata": {
    "hidden": true,
    "id": "3e0a5fcc"
   },
   "outputs": [],
   "source": [
    "qst_14 = dados[['host_id' , 'last_review' , 'id']].groupby(by = 'host_id').max().sort_values(by = ['last_review' , 'id'] , ascending = [False , True]).reset_index().loc[0 , 'host_id']"
   ]
  },
  {
   "cell_type": "code",
   "execution_count": null,
   "id": "ace788da",
   "metadata": {
    "hidden": true,
    "id": "ace788da"
   },
   "outputs": [],
   "source": []
  },
  {
   "cell_type": "code",
   "execution_count": 179,
   "id": "17fe4b7c",
   "metadata": {
    "hidden": true,
    "id": "17fe4b7c"
   },
   "outputs": [
    {
     "name": "stdout",
     "output_type": "stream",
     "text": [
      "O id do host que possui o imóvel com a última avaliação é 526653.\n"
     ]
    }
   ],
   "source": [
    "print('O id do host que possui o imóvel com a última avaliação é {}.'.format(qst_14))"
   ]
  },
  {
   "cell_type": "markdown",
   "id": "86c501b6",
   "metadata": {
    "heading_collapsed": true,
    "id": "86c501b6"
   },
   "source": [
    "##### 15. Qual o `id` do host que possui mais imóveis ativos dentro da base de dados?"
   ]
  },
  {
   "cell_type": "code",
   "execution_count": 180,
   "id": "026bff68",
   "metadata": {
    "hidden": true,
    "id": "026bff68"
   },
   "outputs": [],
   "source": [
    "# Definindo o dataset somente com imóveis ativos\n",
    "## Será pressuposto que imóveis ativos serão os imóveis com 'price' maior que 0.\n",
    "\n",
    "dados_ativos = dados.loc[(dados['price'] > 0) & (dados['availability_365'] > 0)]"
   ]
  },
  {
   "cell_type": "code",
   "execution_count": 181,
   "id": "d7bf0d1f",
   "metadata": {
    "hidden": true,
    "id": "d7bf0d1f"
   },
   "outputs": [],
   "source": [
    "qst_15 = dados_ativos[['id' , 'host_id']].groupby(by = 'host_id').count().sort_values(by = 'id' , ascending = False).reset_index().loc[0 , 'host_id']"
   ]
  },
  {
   "cell_type": "code",
   "execution_count": 182,
   "id": "537e5d3a",
   "metadata": {
    "hidden": true,
    "id": "537e5d3a"
   },
   "outputs": [
    {
     "name": "stdout",
     "output_type": "stream",
     "text": [
      "O id do host com maior quantidade de imóveis ativos cadastrados é 219517861.\n"
     ]
    }
   ],
   "source": [
    "print('O id do host com maior quantidade de imóveis ativos cadastrados é {}.'.format(qst_15))"
   ]
  },
  {
   "cell_type": "markdown",
   "id": "5a7b633d",
   "metadata": {
    "heading_collapsed": true,
    "id": "5a7b633d"
   },
   "source": [
    "##### 16. O host que possui mais imóveis é o host que também possui mais avaliações?"
   ]
  },
  {
   "cell_type": "code",
   "execution_count": 183,
   "id": "83d59afa",
   "metadata": {
    "hidden": true,
    "id": "83d59afa"
   },
   "outputs": [],
   "source": [
    "qst_16 = qst_12 == qst_13"
   ]
  },
  {
   "cell_type": "code",
   "execution_count": null,
   "id": "b85dd545",
   "metadata": {
    "hidden": true,
    "id": "b85dd545"
   },
   "outputs": [],
   "source": []
  },
  {
   "cell_type": "code",
   "execution_count": 184,
   "id": "60204c34",
   "metadata": {
    "hidden": true,
    "id": "60204c34"
   },
   "outputs": [
    {
     "name": "stdout",
     "output_type": "stream",
     "text": [
      "Mentira. O host que possui mais imóveis e mais avaliação não é o mesmo.\n"
     ]
    }
   ],
   "source": [
    "if qst_16 == True:\n",
    "    print('Verdade. O host que possui mais imóveis e mais avaliação é o mesmo')\n",
    "else:\n",
    "    print('Mentira. O host que possui mais imóveis e mais avaliação não é o mesmo.')"
   ]
  },
  {
   "cell_type": "markdown",
   "id": "0b5bfcb0",
   "metadata": {
    "heading_collapsed": true,
    "id": "0b5bfcb0"
   },
   "source": [
    "##### 17. Qual é a categoria que mais possui imóveis dentro da base de dados?"
   ]
  },
  {
   "cell_type": "code",
   "execution_count": 185,
   "id": "2d31c898",
   "metadata": {
    "hidden": true,
    "id": "2d31c898"
   },
   "outputs": [],
   "source": [
    "qst_17 = dados[['id' , 'room_type']].groupby(by = 'room_type').count().sort_values(by = 'id' , ascending = False).reset_index().loc[0 , 'room_type']"
   ]
  },
  {
   "cell_type": "code",
   "execution_count": null,
   "id": "4c6d8f96",
   "metadata": {
    "hidden": true,
    "id": "4c6d8f96"
   },
   "outputs": [],
   "source": []
  },
  {
   "cell_type": "code",
   "execution_count": 186,
   "id": "c0e37ccc",
   "metadata": {
    "hidden": true,
    "id": "c0e37ccc"
   },
   "outputs": [
    {
     "name": "stdout",
     "output_type": "stream",
     "text": [
      "A categoria que possui mais imóveis é a Entire home/apt.\n"
     ]
    }
   ],
   "source": [
    "print('A categoria que possui mais imóveis é a {}.'.format(qst_17))"
   ]
  },
  {
   "cell_type": "markdown",
   "id": "bb3d35c7",
   "metadata": {
    "heading_collapsed": true,
    "id": "bb3d35c7"
   },
   "source": [
    "##### 18. Qual é a categoria que menos possui imóveis dentro da base de dados?"
   ]
  },
  {
   "cell_type": "code",
   "execution_count": 187,
   "id": "0673c36a",
   "metadata": {
    "hidden": true,
    "id": "0673c36a"
   },
   "outputs": [],
   "source": [
    "qst_18 = dados[['id' , 'room_type']].groupby(by = 'room_type').count().sort_values(by = 'id' , ascending = True).reset_index().loc[0 , 'room_type']"
   ]
  },
  {
   "cell_type": "code",
   "execution_count": null,
   "id": "18a806fa",
   "metadata": {
    "hidden": true,
    "id": "18a806fa"
   },
   "outputs": [],
   "source": []
  },
  {
   "cell_type": "code",
   "execution_count": 188,
   "id": "7fd95956",
   "metadata": {
    "hidden": true,
    "id": "7fd95956"
   },
   "outputs": [
    {
     "name": "stdout",
     "output_type": "stream",
     "text": [
      "A categoria que possui menos imóveis é a Shared room.\n"
     ]
    }
   ],
   "source": [
    "print('A categoria que possui menos imóveis é a {}.'.format(qst_18))"
   ]
  },
  {
   "cell_type": "markdown",
   "id": "4cef54f9",
   "metadata": {
    "heading_collapsed": true,
    "id": "4cef54f9"
   },
   "source": [
    "##### 19. A região de `Manhattan` é a região que mais possui imóveis ativos para locação, da categoria `Private room`?"
   ]
  },
  {
   "cell_type": "code",
   "execution_count": 189,
   "id": "b2484524",
   "metadata": {
    "hidden": true,
    "id": "b2484524"
   },
   "outputs": [],
   "source": [
    "qst_19 = dados_ativos[['id' , 'neighbourhood_group' ,'room_type']].loc[dados_ativos['room_type'] == 'Private room' , ['neighbourhood_group' , 'id']].groupby(by = 'neighbourhood_group').count().sort_values(by = 'id' , ascending = False).reset_index().loc[0 , 'neighbourhood_group']"
   ]
  },
  {
   "cell_type": "code",
   "execution_count": null,
   "id": "73500c83",
   "metadata": {
    "hidden": true,
    "id": "73500c83"
   },
   "outputs": [],
   "source": []
  },
  {
   "cell_type": "code",
   "execution_count": 190,
   "id": "e4f562c5",
   "metadata": {
    "hidden": true,
    "id": "e4f562c5"
   },
   "outputs": [
    {
     "name": "stdout",
     "output_type": "stream",
     "text": [
      "Manhattan não é a região que possui mais imóveis ativos da categoria Private Room. A região em questão é Brooklyn.\n"
     ]
    }
   ],
   "source": [
    "if qst_19 == 'Manhattan':\n",
    "    print('Manhattan é a região que possui mais imóveis ativos da categoria Private Room')\n",
    "else:\n",
    "    print('Manhattan não é a região que possui mais imóveis ativos da categoria Private Room. A região em questão é {}.'.format(qst_19))"
   ]
  },
  {
   "cell_type": "markdown",
   "id": "4924658e",
   "metadata": {
    "id": "4924658e"
   },
   "source": [
    "##### 20. Qual a categoria de imóvel que possui a maior média de tempo de disponibilidade para serem locados da região do `Bronx`? Considere somente imóveis ativos"
   ]
  },
  {
   "cell_type": "code",
   "execution_count": 191,
   "id": "2d092a4d",
   "metadata": {
    "id": "2d092a4d"
   },
   "outputs": [],
   "source": [
    "qst_20 = dados_ativos[['id' , 'room_type' , 'availability_365' , 'neighbourhood_group']].loc[dados_ativos['neighbourhood_group'] == 'Bronx' , ['room_type' , 'availability_365']].groupby(by = 'room_type').mean().sort_values(by = 'availability_365' , ascending = False).reset_index().loc[0 , 'room_type']"
   ]
  },
  {
   "cell_type": "code",
   "execution_count": null,
   "id": "4434b42d",
   "metadata": {
    "id": "4434b42d"
   },
   "outputs": [],
   "source": []
  },
  {
   "cell_type": "code",
   "execution_count": 192,
   "id": "76c8239b",
   "metadata": {
    "id": "76c8239b"
   },
   "outputs": [
    {
     "name": "stdout",
     "output_type": "stream",
     "text": [
      "A categoria de imóveis que possui a maior média de disponibilidade no Bronx é a Private room.\n"
     ]
    }
   ],
   "source": [
    "print('A categoria de imóveis que possui a maior média de disponibilidade no Bronx é a {}.'.format(qst_20))"
   ]
  },
  {
   "cell_type": "markdown",
   "id": "83b23931",
   "metadata": {
    "id": "83b23931"
   },
   "source": [
    "##### 21. Qual a categoria de imóvel ativo que possui o maior valor de aluguel (diária) na região de `Manhattan`?"
   ]
  },
  {
   "cell_type": "code",
   "execution_count": 193,
   "id": "ae557a31",
   "metadata": {
    "id": "ae557a31"
   },
   "outputs": [],
   "source": [
    "qst_21 = dados_ativos[['room_type' , 'price' , 'neighbourhood_group']].loc[dados_ativos['neighbourhood_group'] == 'Manhattan'].groupby(by = 'room_type').max().sort_values(by = 'price' , ascending = False).reset_index().loc[0 , 'room_type']"
   ]
  },
  {
   "cell_type": "code",
   "execution_count": null,
   "id": "46cc4185",
   "metadata": {
    "id": "46cc4185"
   },
   "outputs": [],
   "source": []
  },
  {
   "cell_type": "code",
   "execution_count": 194,
   "id": "9854a1bf",
   "metadata": {
    "id": "9854a1bf"
   },
   "outputs": [
    {
     "name": "stdout",
     "output_type": "stream",
     "text": [
      "A categoria de imóvel ativo com maior valor de aluguel é Entire home/apt.\n"
     ]
    }
   ],
   "source": [
    "print('A categoria de imóvel ativo com maior valor de aluguel é {}.'.format(qst_21))"
   ]
  },
  {
   "cell_type": "markdown",
   "id": "2f776e18",
   "metadata": {
    "heading_collapsed": true,
    "id": "2f776e18"
   },
   "source": [
    "##### 22. A categoria de imóvel “Private Room“ é a categoria que fica mais tempo disponível para locação?"
   ]
  },
  {
   "cell_type": "code",
   "execution_count": 195,
   "id": "2258a825",
   "metadata": {
    "hidden": true,
    "id": "2258a825"
   },
   "outputs": [],
   "source": [
    "qst_22 = dados[['room_type' , 'availability_365']].groupby(by = 'room_type').max().sort_values(by = 'availability_365' , ascending = False).reset_index().loc[0 , 'room_type']"
   ]
  },
  {
   "cell_type": "code",
   "execution_count": null,
   "id": "272ab7f0",
   "metadata": {
    "hidden": true,
    "id": "272ab7f0"
   },
   "outputs": [],
   "source": []
  },
  {
   "cell_type": "code",
   "execution_count": 196,
   "id": "2841e37d",
   "metadata": {
    "hidden": true,
    "id": "2841e37d"
   },
   "outputs": [
    {
     "name": "stdout",
     "output_type": "stream",
     "text": [
      "Entire home/apt é a categoria que fica mais tempo disponível.\n"
     ]
    }
   ],
   "source": [
    "if qst_22 == 'Private room':\n",
    "    print('Private room é a categoria que fica mais tempo disponível.')\n",
    "else:\n",
    "    print('{} é a categoria que fica mais tempo disponível.'.format(qst_22))"
   ]
  },
  {
   "cell_type": "markdown",
   "id": "724d3c82",
   "metadata": {
    "heading_collapsed": true,
    "id": "724d3c82"
   },
   "source": [
    "##### 23. Qual a categoria de imóvel que fica mais tempo disponível, na média, para locação?"
   ]
  },
  {
   "cell_type": "code",
   "execution_count": 197,
   "id": "80255f7f",
   "metadata": {
    "hidden": true,
    "id": "80255f7f"
   },
   "outputs": [],
   "source": [
    "qst_23 = dados[['room_type' , 'availability_365']].groupby(by = 'room_type').mean().sort_values(by = 'availability_365' , ascending = False).reset_index().loc[0 , 'room_type']"
   ]
  },
  {
   "cell_type": "code",
   "execution_count": null,
   "id": "13b47189",
   "metadata": {
    "hidden": true,
    "id": "13b47189"
   },
   "outputs": [],
   "source": []
  },
  {
   "cell_type": "code",
   "execution_count": 198,
   "id": "d729b602",
   "metadata": {
    "hidden": true,
    "id": "d729b602"
   },
   "outputs": [
    {
     "name": "stdout",
     "output_type": "stream",
     "text": [
      "Shared room é a categoria que fica mais tempo disponível.\n"
     ]
    }
   ],
   "source": [
    " print('{} é a categoria que fica mais tempo disponível.'.format(qst_23))"
   ]
  },
  {
   "cell_type": "markdown",
   "id": "3205c88c",
   "metadata": {
    "heading_collapsed": true,
    "id": "3205c88c"
   },
   "source": [
    "##### 24. A categoria de imóvel que fica menos tempo disponível, na média, para locação é a categoria que possuí, em média, o menor aluguel (diária)?"
   ]
  },
  {
   "cell_type": "code",
   "execution_count": 199,
   "id": "a6b19656",
   "metadata": {
    "hidden": true,
    "id": "a6b19656"
   },
   "outputs": [],
   "source": [
    "qst_24_disp = dados[['room_type' , 'availability_365']].groupby(by = 'room_type').mean().sort_values(by = 'availability_365' , ascending = True).reset_index().loc[0 , 'room_type']"
   ]
  },
  {
   "cell_type": "code",
   "execution_count": 200,
   "id": "bef91c37",
   "metadata": {
    "hidden": true,
    "id": "bef91c37"
   },
   "outputs": [],
   "source": [
    "qst_24_alug = dados[['room_type' , 'price']].groupby(by = 'room_type').mean().sort_values(by = 'price' , ascending = True).reset_index().loc[0 , 'room_type']"
   ]
  },
  {
   "cell_type": "code",
   "execution_count": 201,
   "id": "db9f36f7",
   "metadata": {
    "hidden": true,
    "id": "db9f36f7"
   },
   "outputs": [
    {
     "name": "stdout",
     "output_type": "stream",
     "text": [
      "A categoria de imóvel que fica menos tempo disponível, em média, não é a mesma com menor média de aluguel. A com menor disponibilidade é a categoria Private room, e a com menor aluguel é a Shared room.\n"
     ]
    }
   ],
   "source": [
    "if qst_24_disp == qst_24_alug:\n",
    "    print('A categoria de imóvel que fica menos tempo disponível, em média, é a mesma com menor média de aluguel. É a categoria {}.'.format(qst_24_disp))\n",
    "else:\n",
    "    print('A categoria de imóvel que fica menos tempo disponível, em média, não é a mesma com menor média de aluguel. A com menor disponibilidade é a categoria {}, e a com menor aluguel é a {}.'.format(qst_24_disp , qst_24_alug))"
   ]
  },
  {
   "cell_type": "markdown",
   "id": "6a8fa8e3",
   "metadata": {
    "heading_collapsed": true,
    "id": "6a8fa8e3"
   },
   "source": [
    "##### 25. A categoria de imóvel `Entire home/apt` é a categoria que possui, na média, o maior valor de aluguel?"
   ]
  },
  {
   "cell_type": "code",
   "execution_count": 202,
   "id": "c2180ebb",
   "metadata": {
    "hidden": true,
    "id": "c2180ebb"
   },
   "outputs": [],
   "source": [
    "qst_25 = dados[['room_type' , 'price']].groupby(by = 'room_type').mean().sort_values(by = 'price' , ascending = False).reset_index().loc[0 , 'room_type']"
   ]
  },
  {
   "cell_type": "code",
   "execution_count": null,
   "id": "3cd41269",
   "metadata": {
    "hidden": true,
    "id": "3cd41269"
   },
   "outputs": [],
   "source": []
  },
  {
   "cell_type": "code",
   "execution_count": 203,
   "id": "849c601d",
   "metadata": {
    "hidden": true,
    "id": "849c601d"
   },
   "outputs": [
    {
     "name": "stdout",
     "output_type": "stream",
     "text": [
      "A categoria de imóvel `Entire home/apt` é a categoria que possui, na média, o maior valor de aluguel.\n"
     ]
    }
   ],
   "source": [
    "if qst_25 == 'Entire home/apt':\n",
    "    print('A categoria de imóvel `Entire home/apt` é a categoria que possui, na média, o maior valor de aluguel.')\n",
    "else:\n",
    "    print('A categoria de imóvel {} é a categoria que possui, na média, o maior valor de aluguel.'.format(qst_25))"
   ]
  },
  {
   "cell_type": "markdown",
   "id": "5bbe1d09",
   "metadata": {
    "heading_collapsed": true,
    "id": "5bbe1d09"
   },
   "source": [
    "##### 26. A categoria de imóvel `Entire home/apt` é a categoria que possui, na média, menos locações?"
   ]
  },
  {
   "cell_type": "code",
   "execution_count": 204,
   "id": "d106fb88",
   "metadata": {
    "hidden": true,
    "id": "d106fb88"
   },
   "outputs": [],
   "source": [
    "qst_26 = dados[['room_type' , 'calculated_host_listings_count']].groupby(by = 'room_type').mean().sort_values(by = 'calculated_host_listings_count' , ascending = True).reset_index().loc[0 , 'room_type']"
   ]
  },
  {
   "cell_type": "code",
   "execution_count": null,
   "id": "0c7ed703",
   "metadata": {
    "hidden": true,
    "id": "0c7ed703"
   },
   "outputs": [],
   "source": []
  },
  {
   "cell_type": "code",
   "execution_count": 205,
   "id": "199c1b99",
   "metadata": {
    "hidden": true,
    "id": "199c1b99"
   },
   "outputs": [
    {
     "name": "stdout",
     "output_type": "stream",
     "text": [
      "A categoria de imóvel Private room é a categoria que possui, na média, menos locações.\n"
     ]
    }
   ],
   "source": [
    "if qst_26 == 'Entire home/apt':\n",
    "    print('A categoria de imóvel Entire home/apt é a categoria que possui, na média, menos locações.')\n",
    "else:\n",
    "    print('A categoria de imóvel {} é a categoria que possui, na média, menos locações.'.format(qst_26))"
   ]
  },
  {
   "cell_type": "markdown",
   "id": "436ac841",
   "metadata": {
    "heading_collapsed": true,
    "id": "436ac841"
   },
   "source": [
    "##### 27. A categoria de imóvel `Private Room` na região de Manhattan, na média, é a categoria que possui o menor valor de locação, comparado as outras categorias na mesma região? "
   ]
  },
  {
   "cell_type": "code",
   "execution_count": 326,
   "id": "0ce74590",
   "metadata": {
    "hidden": true,
    "id": "0ce74590"
   },
   "outputs": [],
   "source": [
    "qst_27 = dados[['room_type' , 'price' , 'neighbourhood_group']].loc[(dados['neighbourhood_group'] == 'Manhattan') & (dados['price'] != 0), ['room_type' , 'price']].groupby(by = 'room_type').mean().sort_values(by = 'price' , ascending = True).reset_index().loc[0 , 'room_type']"
   ]
  },
  {
   "cell_type": "code",
   "execution_count": null,
   "id": "dfd33ef9",
   "metadata": {
    "hidden": true,
    "id": "dfd33ef9"
   },
   "outputs": [],
   "source": []
  },
  {
   "cell_type": "code",
   "execution_count": 327,
   "id": "5d139430",
   "metadata": {
    "hidden": true,
    "id": "5d139430"
   },
   "outputs": [
    {
     "name": "stdout",
     "output_type": "stream",
     "text": [
      "A categoria de imóveis possuem menor valor médio de aluguel na região de Manhattan é Shared room.\n"
     ]
    }
   ],
   "source": [
    "print('A categoria de imóveis possuem menor valor médio de aluguel na região de Manhattan é {}.'.format(qst_27))"
   ]
  },
  {
   "cell_type": "markdown",
   "id": "774378e7",
   "metadata": {
    "heading_collapsed": true,
    "id": "774378e7"
   },
   "source": [
    "##### 28. Qual a região que possui a maior quantidade de imóveis?"
   ]
  },
  {
   "cell_type": "code",
   "execution_count": 208,
   "id": "94a14082",
   "metadata": {
    "hidden": true,
    "id": "94a14082"
   },
   "outputs": [],
   "source": [
    "qst_28 = dados[['neighbourhood_group' , 'id']].groupby(by = 'neighbourhood_group').count().sort_values(by = 'id' , ascending = False).reset_index().loc[0 , 'neighbourhood_group']"
   ]
  },
  {
   "cell_type": "code",
   "execution_count": null,
   "id": "27102299",
   "metadata": {
    "hidden": true,
    "id": "27102299"
   },
   "outputs": [],
   "source": []
  },
  {
   "cell_type": "code",
   "execution_count": 209,
   "id": "ad8dc5d3",
   "metadata": {
    "hidden": true,
    "id": "ad8dc5d3"
   },
   "outputs": [
    {
     "name": "stdout",
     "output_type": "stream",
     "text": [
      "A região com maior quantidade de imóveis é Manhattan.\n"
     ]
    }
   ],
   "source": [
    "print('A região com maior quantidade de imóveis é {}.'.format(qst_28))"
   ]
  },
  {
   "cell_type": "markdown",
   "id": "53abcb8d",
   "metadata": {
    "heading_collapsed": true,
    "id": "53abcb8d"
   },
   "source": [
    "##### 29. Qual a região que possui a menor quantidade de imóveis?"
   ]
  },
  {
   "cell_type": "code",
   "execution_count": 210,
   "id": "db39c923",
   "metadata": {
    "hidden": true,
    "id": "db39c923"
   },
   "outputs": [],
   "source": [
    "qst_29 = dados[['neighbourhood_group' , 'id']].groupby(by = 'neighbourhood_group').count().sort_values(by = 'id' , ascending = True).reset_index().loc[0 , 'neighbourhood_group']"
   ]
  },
  {
   "cell_type": "code",
   "execution_count": null,
   "id": "8933cdeb",
   "metadata": {
    "hidden": true,
    "id": "8933cdeb"
   },
   "outputs": [],
   "source": []
  },
  {
   "cell_type": "code",
   "execution_count": 211,
   "id": "5421a345",
   "metadata": {
    "hidden": true,
    "id": "5421a345"
   },
   "outputs": [
    {
     "name": "stdout",
     "output_type": "stream",
     "text": [
      "A região com maior quantidade de imóveis é Staten Island.\n"
     ]
    }
   ],
   "source": [
    "print('A região com menor quantidade de imóveis é {}.'.format(qst_29))"
   ]
  },
  {
   "cell_type": "markdown",
   "id": "c1ef0c73",
   "metadata": {
    "heading_collapsed": true,
    "id": "c1ef0c73"
   },
   "source": [
    "##### 30. A região que possui a maior quantidade de imóveis é também a região que possui os imóveis mais locados?"
   ]
  },
  {
   "cell_type": "code",
   "execution_count": 212,
   "id": "8e80f4a1",
   "metadata": {
    "hidden": true,
    "id": "8e80f4a1"
   },
   "outputs": [],
   "source": [
    "qst_30 = dados[['neighbourhood_group' , 'calculated_host_listings_count']].groupby(by = 'neighbourhood_group').mean().sort_values(by = 'calculated_host_listings_count' , ascending = False).reset_index().loc[0 , 'neighbourhood_group']"
   ]
  },
  {
   "cell_type": "code",
   "execution_count": null,
   "id": "3bbe277c",
   "metadata": {
    "hidden": true,
    "id": "3bbe277c"
   },
   "outputs": [],
   "source": []
  },
  {
   "cell_type": "code",
   "execution_count": 213,
   "id": "647aa533",
   "metadata": {
    "hidden": true,
    "id": "647aa533"
   },
   "outputs": [
    {
     "name": "stdout",
     "output_type": "stream",
     "text": [
      "A região que possui a maior quantidade de imóveis é também a região que possui os imóveis mais locados. A região é Manhattan.\n"
     ]
    }
   ],
   "source": [
    "if qst_30 == qst_28:\n",
    "    print('A região que possui a maior quantidade de imóveis é também a região que possui os imóveis mais locados. A região é {}.'.format(qst_30))\n",
    "else:\n",
    "    print('A região que possui a maior quantidade de imóveis não é a mesma região que possui os imóveis mais locados. A região é {}.'.format(qst_30))"
   ]
  },
  {
   "cell_type": "markdown",
   "id": "80f47100",
   "metadata": {
    "heading_collapsed": true,
    "id": "80f47100"
   },
   "source": [
    "##### 31. Qual a região que possui a menor quantidade de imóveis locados dentro da base de dados?"
   ]
  },
  {
   "cell_type": "code",
   "execution_count": 214,
   "id": "943586e9",
   "metadata": {
    "hidden": true,
    "id": "943586e9"
   },
   "outputs": [],
   "source": [
    "qst_31 = dados[['neighbourhood_group' , 'id' , 'calculated_host_listings_count']].loc[dados['calculated_host_listings_count'] > 0 , ['neighbourhood_group' , 'id']].groupby(by = 'neighbourhood_group').count().sort_values(by = 'id' , ascending = True).reset_index().loc[0 , 'neighbourhood_group']"
   ]
  },
  {
   "cell_type": "code",
   "execution_count": 215,
   "id": "694a510b",
   "metadata": {
    "hidden": true,
    "id": "694a510b"
   },
   "outputs": [
    {
     "name": "stdout",
     "output_type": "stream",
     "text": [
      "A região que possui menor quantidade de imóveis locados é Staten Island.\n"
     ]
    }
   ],
   "source": [
    "print('A região que possui menor quantidade de imóveis locados é {}.'.format(qst_31))"
   ]
  },
  {
   "cell_type": "markdown",
   "id": "23e9f409",
   "metadata": {
    "heading_collapsed": true,
    "id": "23e9f409"
   },
   "source": [
    "##### 32. A região de `Manhattan` é a região que possui, na média, os maiores aluguéis (diárias) dentro da base de dados?"
   ]
  },
  {
   "cell_type": "code",
   "execution_count": 216,
   "id": "edf07278",
   "metadata": {
    "hidden": true,
    "id": "edf07278"
   },
   "outputs": [],
   "source": [
    "qst_32 = dados_ativos[['neighbourhood_group' , 'price']].groupby(by = 'neighbourhood_group').mean().sort_values(by = 'price' , ascending = False).reset_index().loc[0 , 'neighbourhood_group']"
   ]
  },
  {
   "cell_type": "code",
   "execution_count": null,
   "id": "dd61bc4f",
   "metadata": {
    "hidden": true,
    "id": "dd61bc4f"
   },
   "outputs": [],
   "source": []
  },
  {
   "cell_type": "code",
   "execution_count": 217,
   "id": "1356cf94",
   "metadata": {
    "hidden": true,
    "id": "1356cf94"
   },
   "outputs": [
    {
     "name": "stdout",
     "output_type": "stream",
     "text": [
      "A região de Manhattan é a região com a maior média de preços de aluguel.\n"
     ]
    }
   ],
   "source": [
    "if qst_32 == 'Manhattan':\n",
    "    print('A região de Manhattan é a região com a maior média de preços de aluguel.')\n",
    "else:\n",
    "    print(f'A região com maior média de preços de aluguel é {qst_32}.')"
   ]
  },
  {
   "cell_type": "markdown",
   "id": "6fa1634a",
   "metadata": {
    "id": "6fa1634a"
   },
   "source": [
    "##### 33. A região de `Queens` é a região que possui, na média, os menores aluguéis (diárias) dentro da base de dados?"
   ]
  },
  {
   "cell_type": "code",
   "execution_count": 218,
   "id": "1e6c313e",
   "metadata": {
    "id": "1e6c313e"
   },
   "outputs": [],
   "source": [
    "qst_33 = dados_ativos[['neighbourhood_group' , 'price']].groupby(by = 'neighbourhood_group').mean().sort_values(by = 'price' , ascending = True).reset_index().loc[0 , 'neighbourhood_group']"
   ]
  },
  {
   "cell_type": "code",
   "execution_count": null,
   "id": "c9ce2f28",
   "metadata": {
    "id": "c9ce2f28"
   },
   "outputs": [],
   "source": []
  },
  {
   "cell_type": "code",
   "execution_count": 219,
   "id": "59fa9121",
   "metadata": {
    "id": "59fa9121"
   },
   "outputs": [
    {
     "name": "stdout",
     "output_type": "stream",
     "text": [
      "A região do Queens não é a região com a menor média de preços de aluguel.\n"
     ]
    }
   ],
   "source": [
    "if qst_33 == 'Queens':\n",
    "    print('A região do Queens é a região com a menor média de preços de aluguel.')\n",
    "else:\n",
    "    print('A região do Queens não é a região com a menor média de preços de aluguel.')"
   ]
  },
  {
   "cell_type": "markdown",
   "id": "071bf3fb",
   "metadata": {
    "heading_collapsed": true,
    "id": "071bf3fb"
   },
   "source": [
    "##### 34. Qual a região que possui, na média, os imóveis com os menores aluguéis dentro da base de dados?"
   ]
  },
  {
   "cell_type": "code",
   "execution_count": 220,
   "id": "ab307750",
   "metadata": {
    "hidden": true,
    "id": "ab307750"
   },
   "outputs": [
    {
     "name": "stdout",
     "output_type": "stream",
     "text": [
      "A região com menor média de preços de aluguel é Bronx.\n"
     ]
    }
   ],
   "source": [
    "print(f'A região com menor média de preços de aluguel é {qst_33}.')"
   ]
  },
  {
   "cell_type": "code",
   "execution_count": null,
   "id": "63542283",
   "metadata": {
    "hidden": true,
    "id": "63542283"
   },
   "outputs": [],
   "source": []
  },
  {
   "cell_type": "code",
   "execution_count": null,
   "id": "a7ea8187",
   "metadata": {
    "hidden": true,
    "id": "a7ea8187"
   },
   "outputs": [],
   "source": []
  },
  {
   "cell_type": "markdown",
   "id": "3118d788",
   "metadata": {
    "heading_collapsed": true,
    "id": "3118d788"
   },
   "source": [
    "##### 35. Qual a região que possui os imóveis que ficam, na média, menos tempo disponíveis para aluguel? Ou seja, são alugados mais rápidos na média?"
   ]
  },
  {
   "cell_type": "code",
   "execution_count": 221,
   "id": "bd42c9c4",
   "metadata": {
    "hidden": true,
    "id": "bd42c9c4"
   },
   "outputs": [],
   "source": [
    "qst_35 = dados_ativos[['neighbourhood_group' , 'availability_365']].groupby(by = 'neighbourhood_group').mean().sort_values(by = 'availability_365' , ascending = True).reset_index().loc[0 , 'neighbourhood_group']"
   ]
  },
  {
   "cell_type": "code",
   "execution_count": null,
   "id": "634f3a5d",
   "metadata": {
    "hidden": true,
    "id": "634f3a5d"
   },
   "outputs": [],
   "source": []
  },
  {
   "cell_type": "code",
   "execution_count": 222,
   "id": "2bc73cd3",
   "metadata": {
    "hidden": true,
    "id": "2bc73cd3"
   },
   "outputs": [
    {
     "name": "stdout",
     "output_type": "stream",
     "text": [
      "A região com menor média de tempo disponível, assim, são alugados mais rápido, é Brooklyn.\n"
     ]
    }
   ],
   "source": [
    "print(f'A região com menor média de tempo disponível, assim, são alugados mais rápido, é {qst_35}.')"
   ]
  },
  {
   "cell_type": "markdown",
   "id": "76defbd1",
   "metadata": {
    "heading_collapsed": true,
    "id": "76defbd1"
   },
   "source": [
    "##### 36. Qual o bairro possui a maior quantidade de imóveis ativos para locação?"
   ]
  },
  {
   "cell_type": "code",
   "execution_count": 223,
   "id": "5deafbfd",
   "metadata": {
    "hidden": true,
    "id": "5deafbfd"
   },
   "outputs": [],
   "source": [
    "qst_36 = dados_ativos[['neighbourhood' , 'id']].groupby(by = 'neighbourhood').count().sort_values(by = 'id' , ascending = False).reset_index().loc[0 , 'neighbourhood']"
   ]
  },
  {
   "cell_type": "code",
   "execution_count": null,
   "id": "91fa947c",
   "metadata": {
    "hidden": true,
    "id": "91fa947c"
   },
   "outputs": [],
   "source": []
  },
  {
   "cell_type": "code",
   "execution_count": 224,
   "id": "303230bb",
   "metadata": {
    "hidden": true,
    "id": "303230bb"
   },
   "outputs": [
    {
     "name": "stdout",
     "output_type": "stream",
     "text": [
      "O bairro com mais imóveis ativos para locação é Bedford-Stuyvesant.\n"
     ]
    }
   ],
   "source": [
    "print(f'O bairro com mais imóveis ativos para locação é {qst_36}.')"
   ]
  },
  {
   "cell_type": "markdown",
   "id": "29843794",
   "metadata": {
    "heading_collapsed": true,
    "id": "29843794"
   },
   "source": [
    "##### 37. Qual o bairro possui a menor quantidade de imóveis ativos para locação?"
   ]
  },
  {
   "cell_type": "code",
   "execution_count": 225,
   "id": "a4806389",
   "metadata": {
    "hidden": true,
    "id": "a4806389"
   },
   "outputs": [],
   "source": [
    "qst_37 = dados_ativos[['neighbourhood' , 'id']].groupby(by = 'neighbourhood').count().sort_values(by = 'id' , ascending = True).reset_index().loc[0 , 'neighbourhood']"
   ]
  },
  {
   "cell_type": "code",
   "execution_count": 226,
   "id": "46d76a3a",
   "metadata": {
    "hidden": true,
    "id": "46d76a3a"
   },
   "outputs": [
    {
     "name": "stdout",
     "output_type": "stream",
     "text": [
      "O bairro com menos imóveis ativos para locação é Rossville.\n"
     ]
    }
   ],
   "source": [
    "print(f'O bairro com menos imóveis ativos para locação é {qst_37}.')"
   ]
  },
  {
   "cell_type": "markdown",
   "id": "78c54d15",
   "metadata": {
    "heading_collapsed": true,
    "id": "78c54d15"
   },
   "source": [
    "##### 38. Qual bairro está o imóvel com o maior valor de aluguel?"
   ]
  },
  {
   "cell_type": "code",
   "execution_count": 227,
   "id": "0d67fdbb",
   "metadata": {
    "hidden": true,
    "id": "0d67fdbb"
   },
   "outputs": [],
   "source": [
    "qst_38 = dados[['neighbourhood' , 'price' , 'id']].groupby(by = 'neighbourhood').max().sort_values(by = ['price' , 'id'] , ascending = [False , True]).reset_index().loc[0 , 'neighbourhood']"
   ]
  },
  {
   "cell_type": "code",
   "execution_count": null,
   "id": "0d853f9b",
   "metadata": {
    "hidden": true,
    "id": "0d853f9b"
   },
   "outputs": [],
   "source": []
  },
  {
   "cell_type": "code",
   "execution_count": 228,
   "id": "b4d46465",
   "metadata": {
    "hidden": true,
    "id": "b4d46465"
   },
   "outputs": [
    {
     "name": "stdout",
     "output_type": "stream",
     "text": [
      "O bairro com o imóvel com maior valor de aluguel é Astoria.\n"
     ]
    }
   ],
   "source": [
    "print(f'O bairro com o imóvel com maior valor de aluguel é {qst_38}.')"
   ]
  },
  {
   "cell_type": "markdown",
   "id": "4545de9f",
   "metadata": {
    "heading_collapsed": true,
    "id": "4545de9f"
   },
   "source": [
    "##### 39. Qual bairro está o imóvel com o menor valor de aluguel?"
   ]
  },
  {
   "cell_type": "code",
   "execution_count": 335,
   "id": "edbe00bb",
   "metadata": {
    "hidden": true,
    "id": "edbe00bb"
   },
   "outputs": [],
   "source": [
    "qst_39 = dados[['neighbourhood' , 'price' , 'id']].groupby(by = 'neighbourhood').min().sort_values(by = ['price' , 'id'] , ascending = [True , True]).reset_index().loc[0 , 'neighbourhood']"
   ]
  },
  {
   "cell_type": "code",
   "execution_count": 336,
   "id": "26d162d6",
   "metadata": {
    "hidden": true,
    "id": "26d162d6"
   },
   "outputs": [
    {
     "name": "stdout",
     "output_type": "stream",
     "text": [
      "O bairro com o imóvel com menor valor de aluguel é Williamsburg.\n"
     ]
    }
   ],
   "source": [
    "print(f'O bairro com o imóvel com menor valor de aluguel é {qst_39}.')"
   ]
  },
  {
   "cell_type": "markdown",
   "id": "5d79d6fe",
   "metadata": {
    "id": "5d79d6fe"
   },
   "source": [
    "##### 40. Qual região que possui o bairro com mais imóveis ativos disponíveis para locação?"
   ]
  },
  {
   "cell_type": "code",
   "execution_count": 231,
   "id": "77c21abc",
   "metadata": {
    "id": "77c21abc"
   },
   "outputs": [],
   "source": [
    "qst_40 = dados_ativos[['neighbourhood_group' , 'neighbourhood' , 'id']].groupby(by = ['neighbourhood_group' , 'neighbourhood']).count().sort_values(by = 'id' , ascending = False).reset_index().loc[0 , 'neighbourhood_group']"
   ]
  },
  {
   "cell_type": "code",
   "execution_count": null,
   "id": "40395a0a",
   "metadata": {
    "id": "40395a0a"
   },
   "outputs": [],
   "source": []
  },
  {
   "cell_type": "code",
   "execution_count": 232,
   "id": "d8749ef5",
   "metadata": {
    "id": "d8749ef5"
   },
   "outputs": [
    {
     "name": "stdout",
     "output_type": "stream",
     "text": [
      "A região com o bairro que tem mais imóveis ativos para locação é Brooklyn.\n"
     ]
    }
   ],
   "source": [
    "print(f'A região com o bairro que tem mais imóveis ativos para locação é {qst_40}.')"
   ]
  },
  {
   "cell_type": "markdown",
   "id": "2316bf28",
   "metadata": {
    "id": "2316bf28"
   },
   "source": [
    "##### 41. Qual região que possui o bairro com menos imóveis ativos disponíveis para locação?"
   ]
  },
  {
   "cell_type": "code",
   "execution_count": 233,
   "id": "d48111a6",
   "metadata": {
    "id": "d48111a6"
   },
   "outputs": [],
   "source": [
    "qst_41 = dados_ativos[['neighbourhood_group' , 'neighbourhood' , 'id']].groupby(by = ['neighbourhood_group' , 'neighbourhood']).count().sort_values(by = 'id' , ascending = True).reset_index().loc[0 , 'neighbourhood_group']"
   ]
  },
  {
   "cell_type": "code",
   "execution_count": null,
   "id": "cf34de94",
   "metadata": {
    "id": "cf34de94"
   },
   "outputs": [],
   "source": []
  },
  {
   "cell_type": "code",
   "execution_count": 234,
   "id": "1479079f",
   "metadata": {
    "id": "1479079f"
   },
   "outputs": [
    {
     "name": "stdout",
     "output_type": "stream",
     "text": [
      "A região com o bairro que tem mais imóveis ativos para locação é Staten Island.\n"
     ]
    }
   ],
   "source": [
    "print(f'A região com o bairro que tem mais imóveis ativos para locação é {qst_41}.')"
   ]
  },
  {
   "cell_type": "markdown",
   "id": "b405c226",
   "metadata": {
    "heading_collapsed": true,
    "id": "b405c226"
   },
   "source": [
    "##### 42. O Bairro `Upper West Side`, na região de `Manhattan`, é o bairro que possui, na média, o maior aluguel dentro da base de dados?"
   ]
  },
  {
   "cell_type": "code",
   "execution_count": 235,
   "id": "37cb349b",
   "metadata": {
    "hidden": true,
    "id": "37cb349b"
   },
   "outputs": [],
   "source": [
    "qst_42 = dados[['neighbourhood' , 'price']].groupby(by = 'neighbourhood').mean().sort_values(by = 'price' , ascending = False).reset_index().loc[0 , 'neighbourhood']"
   ]
  },
  {
   "cell_type": "code",
   "execution_count": null,
   "id": "0fc2627f",
   "metadata": {
    "hidden": true,
    "id": "0fc2627f"
   },
   "outputs": [],
   "source": []
  },
  {
   "cell_type": "code",
   "execution_count": 236,
   "id": "90a7d671",
   "metadata": {
    "hidden": true,
    "id": "90a7d671"
   },
   "outputs": [
    {
     "name": "stdout",
     "output_type": "stream",
     "text": [
      "Upper West Side não é o bairro com maior média de preço de aluguel.\n"
     ]
    }
   ],
   "source": [
    "if qst_42 == 'Upper West Side':\n",
    "    print(f'{qst_42} é o bairro com maior média de preço de aluguel.')\n",
    "else:\n",
    "    print(f'Upper West Side não é o bairro com maior média de preço de aluguel.')"
   ]
  },
  {
   "cell_type": "markdown",
   "id": "4aee0885",
   "metadata": {
    "id": "4aee0885"
   },
   "source": [
    "##### 43. Qual é o bairro que possui, na média, o aluguel mais caro da base de dados?"
   ]
  },
  {
   "cell_type": "code",
   "execution_count": 237,
   "id": "702c77d8",
   "metadata": {
    "id": "702c77d8"
   },
   "outputs": [],
   "source": [
    "qst_43 = dados[['neighbourhood' , 'price']].groupby(by = 'neighbourhood').mean().sort_values(by = 'price' , ascending = False).reset_index().loc[0 , 'neighbourhood']"
   ]
  },
  {
   "cell_type": "code",
   "execution_count": null,
   "id": "45b78a4f",
   "metadata": {
    "id": "45b78a4f"
   },
   "outputs": [],
   "source": []
  },
  {
   "cell_type": "code",
   "execution_count": 238,
   "id": "98f5c646",
   "metadata": {
    "id": "98f5c646"
   },
   "outputs": [
    {
     "name": "stdout",
     "output_type": "stream",
     "text": [
      "O bairro com maior média de preço de aluguel é Fort Wadsworth.\n"
     ]
    }
   ],
   "source": [
    "print(f'O bairro com maior média de preço de aluguel é {qst_43}.')"
   ]
  },
  {
   "cell_type": "markdown",
   "id": "dc31583f",
   "metadata": {
    "id": "dc31583f"
   },
   "source": [
    "##### 44. Qual o `id` do imóvel que possui a melhor rentabilidade da base de dados? Levando em consideração o aluguel mais caro e imóvel mais rápido de alugar?  Utilize somente os imóveis que estejam ativos e que possuam pelo menos uma avaliação."
   ]
  },
  {
   "cell_type": "markdown",
   "id": "bc32d31c",
   "metadata": {
    "id": "bc32d31c"
   },
   "source": [
    "Utilize a seguinte fórmula para verificar qual o melhor imóvel:\n",
    "\n",
    "$$ rentability = \\frac{price * (minimoum\\_nights + 1) * number\\_of\\_reviews}{\\sqrt{availability\\_365}} $$"
   ]
  },
  {
   "cell_type": "code",
   "execution_count": 254,
   "id": "3782762f",
   "metadata": {
    "id": "3782762f"
   },
   "outputs": [
    {
     "name": "stderr",
     "output_type": "stream",
     "text": [
      "C:\\Users\\felip\\AppData\\Local\\Temp\\ipykernel_17964\\1515821947.py:1: SettingWithCopyWarning: \n",
      "A value is trying to be set on a copy of a slice from a DataFrame.\n",
      "Try using .loc[row_indexer,col_indexer] = value instead\n",
      "\n",
      "See the caveats in the documentation: https://pandas.pydata.org/pandas-docs/stable/user_guide/indexing.html#returning-a-view-versus-a-copy\n",
      "  dados_ativos['rentability'] = (dados_ativos['price'] * (dados_ativos['minimum_nights'] + 1) * dados_ativos['number_of_reviews']) / np.sqrt(dados_ativos['availability_365'])\n"
     ]
    }
   ],
   "source": [
    "dados_ativos['rentability'] = (dados_ativos['price'] * (dados_ativos['minimum_nights'] + 1) * dados_ativos['number_of_reviews']) / np.sqrt(dados_ativos['availability_365'])\n",
    "dados_ativos_rent = dados_ativos.loc[dados_ativos['number_of_reviews'] >= 1]"
   ]
  },
  {
   "cell_type": "code",
   "execution_count": 242,
   "id": "00683e02",
   "metadata": {
    "id": "00683e02"
   },
   "outputs": [],
   "source": [
    "qst_44 = dados_ativos_rent[['id' , 'number_of_reviews' , 'rentability']].loc[dados_ativos_rent['number_of_reviews'] >= 1].sort_values(by = 'rentability' , ascending = False).reset_index().loc[0 , 'id']"
   ]
  },
  {
   "cell_type": "code",
   "execution_count": 243,
   "id": "a6b24926",
   "metadata": {
    "id": "a6b24926"
   },
   "outputs": [
    {
     "name": "stdout",
     "output_type": "stream",
     "text": [
      "O imóvel que possui maior rentabilidade é o que possui id 2154075\n"
     ]
    }
   ],
   "source": [
    "print(f'O imóvel que possui maior rentabilidade é o que possui id {qst_44}')"
   ]
  },
  {
   "cell_type": "markdown",
   "id": "d6841ab4",
   "metadata": {
    "id": "d6841ab4"
   },
   "source": [
    "##### 45. Qual a região em que fica o melhor bairro para se adquirir um imóvel, visando a melhor rentabilidade média? Utilize como métrica o índice criado na questão anterior."
   ]
  },
  {
   "cell_type": "code",
   "execution_count": 247,
   "id": "6aedbabe",
   "metadata": {
    "id": "6aedbabe"
   },
   "outputs": [],
   "source": [
    "qst_45 = dados_ativos_rent[['neighbourhood_group' , 'rentability']].groupby(by = 'neighbourhood_group').mean().sort_values(by = 'rentability' , ascending = False).reset_index().loc[0 , 'neighbourhood_group']"
   ]
  },
  {
   "cell_type": "code",
   "execution_count": null,
   "id": "64374ea1",
   "metadata": {
    "id": "64374ea1"
   },
   "outputs": [],
   "source": []
  },
  {
   "cell_type": "code",
   "execution_count": 248,
   "id": "c8bc6b0f",
   "metadata": {
    "id": "c8bc6b0f"
   },
   "outputs": [
    {
     "name": "stdout",
     "output_type": "stream",
     "text": [
      "A região com maior média de rentabilidade é Manhattan.\n"
     ]
    }
   ],
   "source": [
    "print(f'A região com maior média de rentabilidade é {qst_45}.')"
   ]
  },
  {
   "cell_type": "markdown",
   "id": "08c9638f",
   "metadata": {
    "id": "08c9638f"
   },
   "source": [
    "##### 46. Qual a região em que fica o pior bairro para se adquirir um imóvel, visando a melhor rentabilidade média? Utilize como métrica o índice criado na questão 44."
   ]
  },
  {
   "cell_type": "code",
   "execution_count": 249,
   "id": "0e3bece8",
   "metadata": {
    "id": "0e3bece8"
   },
   "outputs": [],
   "source": [
    "qst_46 = dados_ativos_rent[['neighbourhood_group' , 'rentability']].groupby(by = 'neighbourhood_group').mean().sort_values(by = 'rentability' , ascending = True).reset_index().loc[0 , 'neighbourhood_group']"
   ]
  },
  {
   "cell_type": "code",
   "execution_count": null,
   "id": "90d322e9",
   "metadata": {
    "id": "90d322e9"
   },
   "outputs": [],
   "source": []
  },
  {
   "cell_type": "code",
   "execution_count": 250,
   "id": "89c1bf1b",
   "metadata": {
    "id": "89c1bf1b"
   },
   "outputs": [
    {
     "name": "stdout",
     "output_type": "stream",
     "text": [
      "A região com maior média de rentabilidade é Staten Island.\n"
     ]
    }
   ],
   "source": [
    "print(f'A região com maior média de rentabilidade é {qst_46}.')"
   ]
  },
  {
   "cell_type": "markdown",
   "id": "85146a48",
   "metadata": {
    "id": "85146a48"
   },
   "source": [
    "##### 47. Levando em conta o bairro encontrado na questão anterior, verifique qual é o `id` do imóvel ativo que possui a pior rentabilidade desse bairro"
   ]
  },
  {
   "cell_type": "code",
   "execution_count": 257,
   "id": "43678a96",
   "metadata": {
    "id": "43678a96"
   },
   "outputs": [],
   "source": [
    "qst_47 = dados_ativos_rent[['id' , 'neighbourhood_group' , 'rentability']].loc[dados_ativos_rent['neighbourhood_group'] == qst_46].sort_values(by = 'rentability' , ascending = True).reset_index().loc[0 , 'id']"
   ]
  },
  {
   "cell_type": "code",
   "execution_count": null,
   "id": "26019273",
   "metadata": {
    "id": "26019273"
   },
   "outputs": [],
   "source": []
  },
  {
   "cell_type": "code",
   "execution_count": 258,
   "id": "b5285184",
   "metadata": {
    "id": "b5285184"
   },
   "outputs": [
    {
     "name": "stdout",
     "output_type": "stream",
     "text": [
      "O id no imóvel menos rentável de Staten Island é 34396747.\n"
     ]
    }
   ],
   "source": [
    "print(f'O id no imóvel menos rentável de {qst_46} é {qst_47}.')"
   ]
  },
  {
   "cell_type": "markdown",
   "id": "39ef122b",
   "metadata": {
    "id": "39ef122b"
   },
   "source": [
    "##### 48. Levando em conta o bairro da questão 45, verifique qual o `id` do imóvel ativo que possui a melhor rentabilidade desse bairro"
   ]
  },
  {
   "cell_type": "code",
   "execution_count": 259,
   "id": "7ddc79a5",
   "metadata": {
    "id": "7ddc79a5"
   },
   "outputs": [],
   "source": [
    "qst_48 = dados_ativos_rent[['id' , 'neighbourhood_group' , 'rentability']].loc[dados_ativos_rent['neighbourhood_group'] == qst_45].sort_values(by = 'rentability' , ascending = False).reset_index().loc[0 , 'id']"
   ]
  },
  {
   "cell_type": "code",
   "execution_count": null,
   "id": "b72fd78a",
   "metadata": {
    "id": "b72fd78a"
   },
   "outputs": [],
   "source": []
  },
  {
   "cell_type": "code",
   "execution_count": 260,
   "id": "098b212c",
   "metadata": {
    "id": "098b212c"
   },
   "outputs": [
    {
     "name": "stdout",
     "output_type": "stream",
     "text": [
      "O id no imóvel menos rentável de Manhattan é 9528920.\n"
     ]
    }
   ],
   "source": [
    "print(f'O id no imóvel menos rentável de {qst_45} é {qst_48}.')"
   ]
  },
  {
   "cell_type": "markdown",
   "id": "d53b8d9f",
   "metadata": {
    "id": "d53b8d9f"
   },
   "source": [
    "##### 49. Caso eu, investidor, compre o imóvel da questão anterior com um investimento de U\\$ 1.000.000,00, quantas vezes eu teria que locá-lo para ter o retorno do investimento feito? Utilize a fórmula abaixo para calcular o tempo de retorno do investimento"
   ]
  },
  {
   "cell_type": "markdown",
   "id": "d3fb69b5",
   "metadata": {
    "id": "d3fb69b5"
   },
   "source": [
    "$$ return\\_investment = \\frac{investment}{price * (minimum\\_nights + 1)} $$"
   ]
  },
  {
   "cell_type": "code",
   "execution_count": 296,
   "id": "0dcac6c1",
   "metadata": {
    "id": "0dcac6c1"
   },
   "outputs": [],
   "source": [
    "# cria função para retornar o returno do investimento\n",
    "def return_investment(id_house , investment):\n",
    "    # filtra o registro do id indicado\n",
    "    temp = dados_ativos_rent.loc[dados_ativos_rent['id'] == id_house]\n",
    "    \n",
    "    # cria variáveis com os valores que vão formar a fórmula\n",
    "    price = dados_ativos_rent.loc[dados_ativos_rent['id'] == id_house , 'price'].iloc[0]\n",
    "    minimum_nights = dados_ativos_rent.loc[dados_ativos_rent['id'] == id_house , 'minimum_nights'].iloc[0]\n",
    "    \n",
    "    return_investment = investment / (price * (minimum_nights + 1))\n",
    "    \n",
    "    return return_investment\n",
    "    "
   ]
  },
  {
   "cell_type": "code",
   "execution_count": 340,
   "id": "11ab5a7b-8cbf-4cf5-8c5c-656f90b2880a",
   "metadata": {},
   "outputs": [
    {
     "data": {
      "text/plain": [
       "7.849293563579278"
      ]
     },
     "execution_count": 340,
     "metadata": {},
     "output_type": "execute_result"
    }
   ],
   "source": [
    "return_investment(3979611 , 1000000)"
   ]
  },
  {
   "cell_type": "code",
   "execution_count": 343,
   "id": "852d88db",
   "metadata": {
    "id": "852d88db"
   },
   "outputs": [],
   "source": [
    "qst_49 = return_investment(3979611 , 1000000)"
   ]
  },
  {
   "cell_type": "code",
   "execution_count": 345,
   "id": "93c57142",
   "metadata": {
    "id": "93c57142"
   },
   "outputs": [
    {
     "name": "stdout",
     "output_type": "stream",
     "text": [
      "Eu precisaria locá-lo 7.85 vezes para retornar o investimento de R$ 1.000.000\n"
     ]
    }
   ],
   "source": [
    "print(f'Eu precisaria locá-lo {qst_49:.2f} vezes para retornar o investimento de R$ 1.000.000')"
   ]
  },
  {
   "cell_type": "markdown",
   "id": "347a8aa2",
   "metadata": {
    "id": "347a8aa2"
   },
   "source": [
    "##### 50. Se eu desejasse comprar um imóvel que esteja ativo e com pelo menos uma avaliação em um dos bairros abaixo, qual seria o `id` do imóvel com a melhor rentabilidade dentre esses bairros? Utilize o índice calculado na questão 44."
   ]
  },
  {
   "cell_type": "markdown",
   "id": "095dfe95",
   "metadata": {
    "id": "095dfe95"
   },
   "source": [
    "* East Harlem\n",
    "* Harlem\n",
    "* Midtown\n",
    "* Morningside Heights\n",
    "* Upper West Side\n",
    "* Upper East Side"
   ]
  },
  {
   "cell_type": "code",
   "execution_count": 322,
   "id": "43cc28eb",
   "metadata": {
    "id": "43cc28eb"
   },
   "outputs": [],
   "source": [
    "neighbourhoods_list = ['East Harlem', 'Harlem', 'Midtown', 'Morningside Heights' , 'Upper West Side', 'Upper East Side']\n",
    "\n",
    "qst_50 = dados_ativos_rent[['id' , 'neighbourhood' , 'rentability']].loc[dados_ativos_rent['neighbourhood'].isin(neighbourhoods_list)].sort_values(by = 'rentability' , ascending = False).reset_index().loc[0 , 'id']"
   ]
  },
  {
   "cell_type": "code",
   "execution_count": null,
   "id": "5bf4a514",
   "metadata": {
    "id": "5bf4a514"
   },
   "outputs": [],
   "source": []
  },
  {
   "cell_type": "code",
   "execution_count": 323,
   "id": "98bfcbaf",
   "metadata": {
    "id": "98bfcbaf"
   },
   "outputs": [
    {
     "name": "stdout",
     "output_type": "stream",
     "text": [
      "O imóvel com melhor rentabilidade dentro desses bairros é o imóvel com id 5240711.\n"
     ]
    }
   ],
   "source": [
    "print(f'O imóvel com melhor rentabilidade dentro desses bairros é o imóvel com id {qst_50}.')"
   ]
  }
 ],
 "metadata": {
  "colab": {
   "name": "projeto_final_certificacao_aluno.ipynb",
   "provenance": []
  },
  "kernelspec": {
   "display_name": "Python 3 (ipykernel)",
   "language": "python",
   "name": "python3"
  },
  "language_info": {
   "codemirror_mode": {
    "name": "ipython",
    "version": 3
   },
   "file_extension": ".py",
   "mimetype": "text/x-python",
   "name": "python",
   "nbconvert_exporter": "python",
   "pygments_lexer": "ipython3",
   "version": "3.9.12"
  },
  "latex_envs": {
   "LaTeX_envs_menu_present": true,
   "autoclose": false,
   "autocomplete": true,
   "bibliofile": "biblio.bib",
   "cite_by": "apalike",
   "current_citInitial": 1,
   "eqLabelWithNumbers": true,
   "eqNumInitial": 1,
   "hotkeys": {
    "equation": "Ctrl-E",
    "itemize": "Ctrl-I"
   },
   "labels_anchors": false,
   "latex_user_defs": false,
   "report_style_numbering": false,
   "user_envs_cfg": false
  },
  "toc": {
   "base_numbering": 1,
   "nav_menu": {},
   "number_sections": false,
   "sideBar": true,
   "skip_h1_title": false,
   "title_cell": "Table of Contents",
   "title_sidebar": "Contents",
   "toc_cell": false,
   "toc_position": {},
   "toc_section_display": true,
   "toc_window_display": false
  }
 },
 "nbformat": 4,
 "nbformat_minor": 5
}
